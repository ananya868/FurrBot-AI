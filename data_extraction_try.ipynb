{
 "cells": [
  {
   "cell_type": "code",
   "execution_count": 3,
   "metadata": {},
   "outputs": [
    {
     "name": "stderr",
     "output_type": "stream",
     "text": [
      "\n",
      "[notice] A new release of pip is available: 24.1.2 -> 24.3.1\n",
      "[notice] To update, run: python.exe -m pip install --upgrade pip\n"
     ]
    }
   ],
   "source": [
    "!pip install pdfplumber -q\n",
    "import pdfplumber"
   ]
  },
  {
   "cell_type": "code",
   "execution_count": null,
   "metadata": {},
   "outputs": [],
   "source": [
    "# Specify your PDF file path\n",
    "pdf_path = \"pdf_data\\dogs\\Dogs_Breeds_Affenpinscher.pdf\"\n",
    "\n",
    "# List to store text from each page\n",
    "text_data = []\n",
    "\n",
    "# Open the PDF file\n",
    "with pdfplumber.open(pdf_path) as pdf:\n",
    "    for page in pdf.pages: #  page 1, 2, 3, 4 etc ...\n",
    "        page_text = page.extract_text()  # Extract text from the page\n",
    "        if page_text:  # Check if there's any text on the page\n",
    "            text_data.append(page_text)  # Append the text to the list\n",
    "\n",
    "# Now `text_data` contains the text of each page as a separate entry in the list\n",
    "for i, page_text in enumerate(text_data):\n",
    "    print(f\"--- Page {i + 1} ---\")\n",
    "    print(page_text)\n",
    "    print(\"\\n\")"
   ]
  },
  {
   "cell_type": "code",
   "execution_count": 7,
   "metadata": {},
   "outputs": [],
   "source": [
    "# !pip install pymupdf -q \n",
    "import fitz \n",
    "# import pymupdf"
   ]
  },
  {
   "cell_type": "code",
   "execution_count": null,
   "metadata": {},
   "outputs": [],
   "source": [
    "# Specify your PDF file path\n",
    "pdf_path = \"pdf_data\\dogs\\Dogs_Breeds_Affenpinscher.pdf\"\n",
    "\n",
    "# List to store extracted text\n",
    "text_data = []\n",
    "\n",
    "# Open the PDF file\n",
    "with fitz.open(pdf_path) as pdf:\n",
    "    for page_num in range(pdf.page_count): # Looping over number of pages (0-8 in this case)\n",
    "        page = pdf[page_num] # indexing page \n",
    "        blocks = page.get_text(\"dict\")[\"blocks\"]  # Extract text blocks with style info\n",
    "        \n",
    "        for block in blocks:\n",
    "            if \"lines\" in block:  # Ensure the block contains lines of text\n",
    "                for line in block[\"lines\"]:\n",
    "                    for span in line[\"spans\"]:\n",
    "                        text = span[\"text\"].strip()\n",
    "                        font_size = span[\"size\"]\n",
    "                        font_flags = span[\"flags\"]\n",
    "                        is_bold = font_flags & 2  # Font flag 2 indicates bold text\n",
    "\n",
    "                        # Define your conditions for subheadings (e.g., larger than 12 pt, bold text)\n",
    "                        if is_bold or font_size > 12:  # Adjust font size threshold as needed\n",
    "                            text_data.append(text)  # Treat as a new section\n",
    "                        else:\n",
    "                            # If not a new section, add it to the current section\n",
    "                            if text_data and not text_data[-1].endswith(\"\\n\"):\n",
    "                                text_data[-1] += \" \" + text  # Continue the current section\n",
    "                            else:\n",
    "                                text_data.append(text)  # Start new section\n",
    "\n",
    "# Output the extracted sections\n",
    "for i, section in enumerate(text_data):\n",
    "    print(f\"--- Section {i + 1} ---\")\n",
    "    print(section)\n",
    "    print(\"\\n\")"
   ]
  },
  {
   "cell_type": "code",
   "execution_count": 130,
   "metadata": {},
   "outputs": [],
   "source": [
    "pdf_path = \"pdf_data\\dogs\\Dogs_Breeds_WelshSpringerSpaniel.pdf\"\n",
    "obj = fitz.open(pdf_path)"
   ]
  },
  {
   "cell_type": "code",
   "execution_count": null,
   "metadata": {},
   "outputs": [],
   "source": [
    "text_dt = []\n",
    "subheadings = []\n",
    "\n",
    "\n",
    "for i in range(obj.page_count):\n",
    "    page = obj[i]\n",
    "    blocks = page.get_text(\"dict\")[\"blocks\"]\n",
    "    # print(blocks)\n",
    "    for b in blocks:\n",
    "        if \"lines\" in b:\n",
    "            for line in b[\"lines\"]:\n",
    "                for span in line[\"spans\"]:\n",
    "                    text = span[\"text\"].strip()\n",
    "                    font_size = span[\"size\"]\n",
    "                    font_flags = span[\"flags\"]\n",
    "                    is_bold = font_flags & 2\n",
    "\n",
    "                    # conditions\n",
    "                    if is_bold or font_size > 12:  # Adjust font size threshold as needed\n",
    "                            text_dt.append(text)  # Treat as a new section\n",
    "                            subheadings.append(text)  # Store the subheading\n",
    "                    else:\n",
    "                        # If not a new section, add it to the current section\n",
    "                        if text_dt and not text_dt[-1].endswith(\"\\n\"):\n",
    "                            text_dt[-1] += \" \" + text  # Continue the current section\n",
    "                        else:\n",
    "                            text_dt.append(text)  # Start new section"
   ]
  },
  {
   "cell_type": "code",
   "execution_count": 132,
   "metadata": {},
   "outputs": [
    {
     "data": {
      "text/plain": [
       "['Welsh Springer Spaniel',\n",
       " 'Caring for a Welsh Springer Spaniel',\n",
       " 'Welsh Springer Spaniel Health Issues',\n",
       " 'Hip Dysplasia',\n",
       " 'Elbow Dysplasia',\n",
       " 'Hypothyroidism',\n",
       " 'Eye Problems',\n",
       " 'What To Feed a Welsh Springer Spaniel',\n",
       " 'How To Feed a Welsh Springer Spaniel',\n",
       " 'How Much Should You Feed a Welsh Springer Spaniel?',\n",
       " 'Nutritional Tips for Welsh Springer Spaniels',\n",
       " 'Behavior and Training Tips for Welsh Springer Spaniels',\n",
       " 'Welsh Springer Spaniel Personality and Temperament',\n",
       " 'Welsh Springer Spaniel Behavior',\n",
       " 'Welsh Springer Spaniel Training',\n",
       " 'Fun Activities for Welsh Springer Spaniels',\n",
       " 'Welsh Springer Spaniel Grooming Guide',\n",
       " 'Skin Care',\n",
       " 'Coat Care',\n",
       " 'Eye Care',\n",
       " 'Ear Care',\n",
       " 'Considerations for Pet Parents',\n",
       " 'Welsh Springer Spaniel FAQs',\n",
       " 'Are Welsh Springer Spaniels good family dogs?',\n",
       " 'What is the difference between English Springer Spaniels and Welsh',\n",
       " 'Springer Spaniels?',\n",
       " 'Are Welsh Springer Spaniels high-maintenance?',\n",
       " 'How rare are Welsh Springer Spaniels?']"
      ]
     },
     "execution_count": 132,
     "metadata": {},
     "output_type": "execute_result"
    }
   ],
   "source": [
    "subheadings"
   ]
  },
  {
   "cell_type": "code",
   "execution_count": 129,
   "metadata": {},
   "outputs": [
    {
     "data": {
      "text/plain": [
       "['Welsh Springer Spaniel petmd.com /dog/breeds/welsh-springer-spaniel The loyal, affectionate Welsh Springer Spaniel, or Welshie, is often described as a “Velcro dog” due to their strong need for companionship. However, it’s important to note that they want this friendship to come from their family, and they can be reserved when meeting new people. An ancient bird-hunting breed developed in Wales, active and energetic Welshies gained American Kennel Club (AKC) member status in 1906. The Welsh Springer Spaniel is described in the breed standard as being “an attractive dog of handy size … compact, not leggy, obviously built for hard work and endurance.” And indeed they are compact, ranging 35–55 pounds in weight and 17–19 inches in height. Welsh Springer Spaniel dogs boast soft brown eyes, ears that endearingly flop and flap, and typically a docked tail. However, tail docking in dogs is a controversial practice opposed by the American Veterinary Medical Association. Their characteristically red and white double coats of smooth fur protect them from the elements when on the job but make them particularly pleasant snuggle partners when off duty—as long as they get their daily exercise first.',\n",
       " 'Caring for a Welsh Springer Spaniel First and foremost, Welsh Springer Spaniels need a family that is present. According to the Welsh Springer Spaniel Club of America (WSSCA), Welshies generally prefer the company of their people over other pets, though they are most likely to jell with other Welshies. Because Welsh Springer Spaniels were bred as hunting dogs, they can follow their talented noses into trouble. That’s why all off-leash play should happen only within a securely fenced area. It’s also why Welshies might not be a good fit in homes with pet birds, bunnies, or other smaller pets. Early socialization and consistent training is especially important for dogs like Welshies, which are prone to being reserved around strangers; they will also resort to barking when concerned or bored. To stay mentally and physically fit,\\xa0Welsh Springer Spaniels need daily opportunities for exercising their brain and body. Grooming tends to be relatively easy, though your exact routine will depend on your Welshie’s coat and lifestyle. Typically, a once-a-week brushing is all that’s needed.',\n",
       " 'Welsh Springer Spaniel Health Issues 10/26/24, 11:22 PM Welsh Springer Spaniel https://www.printfriendly.com/p/g/tcVxcg 1/8 The average Welshie lifespan is 12–15 years. Though they’re a generally healthy dog breed, make sure your Welsh Springer Spaniel breeder screens for the following health conditions.',\n",
       " 'Hip Dysplasia Hip dysplasia is a condition in which the hip joint doesn’t develop properly, causing a looseness that eventually leads to degenerative joint disease (osteoarthritis). Mild cases are treated with interventions like weight loss, physical therapy, and anti- inflammatory drugs, but severe cases may require surgery. Common signs of hip dysplasia include: Limping Reluctance to get up or jump Shifting of weight to front legs Loss of muscle mass in back legs Hip pain',\n",
       " 'Elbow Dysplasia Similar to hip dysplasia, elbow dysplasia happens when an elbow joint doesn’t develop as it should. It’s one of the most common causes of osteoarthritis in dog elbows. Anti-inflammatory drugs can help with the pain and inflammation, but surgery is recommended before osteoarthritis develops. Common signs of elbow dysplasia include: Limping, especially after exercise Reluctance or unwillingness to walk or exercise Stiffness in the elbow joint Grating or crackling sound from the elbow joint',\n",
       " 'Hypothyroidism Hypothyroidism is a disease in which the thyroid gland produces insufficient amounts of thyroid hormones. This can lead to all kinds of symptoms, including: Weight gain 10/26/24, 11:22 PM Welsh Springer Spaniel https://www.printfriendly.com/p/g/tcVxcg 2/8 Lethargy Dry, brittle hair Chronic ear infections Chronic skin infections The good news is that this condition can be managed with lifelong medication, and dogs with hypothyroidism often live long and happy lives.',\n",
       " 'Eye Problems The Welshie is predisposed to several eye conditions, including: Narrow-angle glaucoma: Glaucoma is a disease characterized by increased intraocular pressure (IOP) due to fluid production/drainage imbalance. Narrow- angle glaucoma (sometimes called closed-angle glaucoma) is more common in Welshies and describes when the iris blocks fluid drainage, causing a sudden increase in IOP that leads to acute pain and blindness. Entropion: Entropion is a condition in which a dog’s eyelid grows inward, causing their eyelashes to rub against their cornea. It’s the most common eyelid abnormality in dogs. Distichiasis: Distichiasis describes when an eyelash grows inside the eyelid instead of on the regular lash line. Similar to entropion, this can cause the dog’s eyelashes to rub against the cornea, resulting in irritation and ulcers to the cornea (surface of the eyeball).',\n",
       " 'What To Feed a Welsh Springer Spaniel No two Welshies are exactly alike, so it’s important to partner with your veterinarian in choosing the best food and feeding plan for your dog. Your vet can recommend a food that meets Association of American Feed Control Officials (AAFCO) standards and is nutritionally complete for your pet’s age, size, and health history. Always feed your dog a food that’s formulated for their life stage: puppy, adult, or senior.',\n",
       " 'How To Feed a Welsh Springer Spaniel Most adult Welsh Springer Spaniel dogs should eat two meals a day: once in the morning and again in the evening. But because Welsh Springer Spaniel puppies have higher metabolisms than adult dogs, it’s generally best to add a midday feeding for a total of three meals. 10/26/24, 11:22 PM Welsh Springer Spaniel https://www.printfriendly.com/p/g/tcVxcg 3/8 Your vet can help you create the best feeding schedule for your dog’s age.',\n",
       " \"How Much Should You Feed a Welsh Springer Spaniel? The label on your dog’s food packaging includes a feeding guide that will give you a general idea of how much to feed your dog, but ask your veterinarian for more accurate guidance. They will recommend food and portion sizes depending on your dog’s age, weight, body condition score, lifestyle, and health needs. Include treats in your daily calorie count for the most accurate view into what your pet is eating. Treats should never make up more than 10% of your dog's daily calorie requirements.\",\n",
       " 'Nutritional Tips for Welsh Springer Spaniels If your Welshie is eating a complete and balanced dog food that’s AAFCO-compliant, they shouldn’t need supplementation. However, if your Welsh Springer Spaniel is older, develops a health condition, or is at risk of a health condition, your veterinarian might recommend a dog supplement to improve their health, such as a joint supplement for hip or elbow dysplasia. Always talk to your vet before adding anything new to your dog’s diet—including supplements.',\n",
       " 'Behavior and Training Tips for Welsh Springer Spaniels',\n",
       " 'Welsh Springer Spaniel Personality and Temperament The WSSCA describes Welsh Springer Spaniels as loyal, affectionate, and devoted family members. Often referred to as “Velcro dogs,” Welshies are happiest when they’re with their humans. This breed can get along well with other dogs and even cats when properly socialized, introduced, and supervised. Welsh Springer Spaniels are active, energetic working dogs who still need “jobs” each day. If you aren’t a hunter, other forms of mental stimulation and physical exercise are just fine.',\n",
       " 'Welsh Springer Spaniel Behavior The Welsh Springer Spaniel was originally bred to be a bird dog, and their natural instincts to chase require careful consideration. Their powerful sense of smell and strong prey drive are grounds for keeping them either on a leash or within a securely 10/26/24, 11:22 PM Welsh Springer Spaniel https://www.printfriendly.com/p/g/tcVxcg 4/8 fenced area at all times. They also shouldn’t join homes with small pets like birds and bunnies for the same reasons. Welshies are innately reserved around strangers, which often leads to barking. Boredom stemming from lack of exercise and/or companionship may also cause an increase in barking (and potentially other unwanted behaviors like chewing).',\n",
       " 'Welsh Springer Spaniel Training During your Welsh Springer Spaniel puppy’s first four months of life, it’s important to expose them to new people, animals, sights, sounds, and situations. These first weeks are a crucial learning period for them, and socializing your Welshie can help them feel comfortable in a wide variety of settings as they grow. Welshies are smart dogs that are easy to train with positive reinforcement. The WSSCA says most\\xa0Welshie pups basically house-train themselves. No matter what you’re teaching your dog, using a positive, reward-based training approach has the triple benefit of teaching necessary skills, building the human-animal bond, and providing mental and physical exercise. If you use treats as a reward during training, factor them into your dog’s daily calorie count. Play, favorite dog toys, and other things your Welsh Springer Spaniel enjoys can also be used as “treats” for good behavior.',\n",
       " 'Fun Activities for Welsh Springer Spaniels Walking Jogging Hunting Tracking Obedience training Skills training Agility Rally',\n",
       " 'Welsh Springer Spaniel Grooming Guide The Welsh Springer Spaniel’s unique red and white coat is soft, flat, and dense enough to protect them from unsavory weather and terrain while hunting. Luckily, their impressive coats only shed a moderate amount and require very little 10/26/24, 11:22 PM Welsh Springer Spaniel https://www.printfriendly.com/p/g/tcVxcg 5/8 grooming.',\n",
       " 'Skin Care Good coat care is the key to good skin care. Regular grooming can help remove twigs, burrs, and other debris that can get caught in your Welshie’s coat and irritate their skin. It’s also a good time to check your dog for ticks they might pick up outside. How often you bathe your dog will depend in part on your dog’s lifestyle. Keep in mind that too many baths can strip the skin of healthy oils. When you do bathe your dog, always use a dog-specific shampoo—never a shampoo meant for humans.',\n",
       " 'Coat Care Plan on thoroughly brushing your Welsh Springer Spaniel’s coat at least once a week to keep it healthy and free from mats.',\n",
       " 'Eye Care Welshies are prone to eye issues, so watch for signs of redness, discharge, cloudiness, or apparent vision issues. Call your vet if you have any concerns.',\n",
       " 'Ear Care The Welsh Springer Spaniel’s floppy and furry ears can invite infection. Talk to your veterinary team about how and how often you should clean your dog’s ears, as well as which ear-cleaning products to use. Call your vet if you notice signs of an ear infection, such as redness, odor, pain, excess wax in the ear, itchiness, or head shaking.\\xa0If your dog gets frequent ear infections, you might need to have their thyroid checked, as this can be a sign of hypothyroidism.',\n",
       " 'Considerations for Pet Parents Here are some questions to consider before adding a Welsh Springer Spaniel to your family: 1. Am I home enough to meet the needs of a “Velcro dog”? 2. Do I have time and energy to exercise an active, energetic dog every day? 3. Can I keep a dog with hunting instincts on a leash or within securely fenced areas when outdoors? 4. Am I OK with some shedding and once-a-week brushings? 10/26/24, 11:22 PM Welsh Springer Spaniel https://www.printfriendly.com/p/g/tcVxcg 6/8 5. Do I have the skills and patience to provide extensive socialization and lifelong training using positive reinforcement? 6. Am I financially prepared to provide veterinary care? 7. Can I provide a dog with a loving home for their lifetime, which could be 14 years or more? If you can answer these questions with an enthusiastic “Yes!” you may be ready to parent a Welshie.',\n",
       " 'Welsh Springer Spaniel FAQs',\n",
       " 'Are Welsh Springer Spaniels good family dogs? Welsh Springer Spaniels can be incredibly loving, loyal, even-tempered family dogs. However, Welshies need active, proactive families who can provide them with the exercise and training they need to thrive.',\n",
       " 'What is the difference between English Springer Spaniels and Welsh',\n",
       " 'Springer Spaniels? Though often confused for one another, English Springer Spaniels and Welsh Springer Spaniels are entirely different breeds. English Springer Spaniels are much more common than Welshies and come in a larger variety of colors (such as combinations of black, white, tan, and liver), whereas Welshies are only red and white. And though the breeds are similar in size, English Springer Spaniels tend to be a bit larger.',\n",
       " 'Are Welsh Springer Spaniels high-maintenance? Welsh Springer Spaniels are not high-maintenance when it comes to grooming, as their fur generally needs to be brushed once a week. But they may be considered high-maintenance in that they are happiest when by their human’s side, earning them the nickname “Velcro dog.”',\n",
       " 'How rare are Welsh Springer Spaniels? Welsh Springer Spaniels are somewhat rare—especially in the U.S. The AKC ranked Welshies as the 132nd most popular breed of 2023, out of 200 total dog breeds. WRITTEN BY Sarah Mouton Dowdy Freelance Writer 10/26/24, 11:22 PM Welsh Springer Spaniel https://www.printfriendly.com/p/g/tcVxcg 7/8 10/26/24, 11:22 PM Welsh Springer Spaniel https://www.printfriendly.com/p/g/tcVxcg 8/8']"
      ]
     },
     "execution_count": 129,
     "metadata": {},
     "output_type": "execute_result"
    }
   ],
   "source": [
    "text_dt "
   ]
  },
  {
   "cell_type": "code",
   "execution_count": 116,
   "metadata": {},
   "outputs": [
    {
     "data": {
      "text/plain": [
       "6"
      ]
     },
     "execution_count": 116,
     "metadata": {},
     "output_type": "execute_result"
    }
   ],
   "source": [
    "len(text_dt)"
   ]
  },
  {
   "cell_type": "code",
   "execution_count": 117,
   "metadata": {},
   "outputs": [
    {
     "name": "stdout",
     "output_type": "stream",
     "text": [
      "Modified Text List:\n",
      "Hokkaido | PetMD petmd.com /dog/breeds/c_dg_hokkaido First known as the Ainu, this dog breed was named after the people it lived with and later the area of Japan it was believed to have originated in. The Hokkaido is known as a great hunter as well as loveable and loyal pet.\n",
      "Physical Characteristics The Hokkaido is a medium-sized dog breed that weighs anywhere from 45 to 65 pounds at a height of 18 to 22 inches. This spitz type breed has small, triangular upright ears and small eyes with triangle markings. The Hokkaido has a thick and harsh double coat that comes in red, brindle, sesame, black or black and tan/white.\n",
      "Personality and Temperament A strong hunter, the Hokkaido is brave, smart, and has a great sense of direction. In addition to this, the Hokkaido is known as a faithful and loving dog that does well with children when it is socialized early enough. The Hokkaido would not make the best apartment dog, as it is an active breed that does best with a large yard.\n",
      "Care Due to its thick coat, the Hokkaido requires daily brushing to maintain the coat and needs moderate daily exercise to stay in shape such as a long walk.\n",
      "Health Considered a generally healthy breed, there are no known health issues specific to the Hokkaido. This breed lives an average life span of 11 to 13 years.\n",
      "History and Background The Hokkaido, which was named after the area where it was developed, is said to have originated when Ainu migrants brought the small dog with them to Japan in the 1140s. In 1937 it was designated a protected species in Japan. In 1996 it was recognized by the UKC. Today the Hokkaido continues to be a popular hunting dog. 10/26/24, 4:53 PM Hokkaido | PetMD https://www.printfriendly.com/p/g/fX2xvh 1/1\n",
      "len : 6\n"
     ]
    }
   ],
   "source": [
    "text_list = text_dt.copy()\n",
    "# Iterate through the list and merge items containing \"FAQ\" with the next item, stopping at \"References\"\n",
    "i = 0\n",
    "while i < len(text_list) - 1:  # Stop at second-last item to avoid index error\n",
    "    if \"FAQ\" in text_list[i] and \"References\" not in text_list[i]:\n",
    "        # Merge current item with the next item unless the next item contains \"References\"\n",
    "        if \"References\" not in text_list[i + 1]:\n",
    "            text_list[i] = text_list[i] + \" \" + text_list[i + 1]\n",
    "            # Remove the next item (since it's now merged)\n",
    "            text_list.pop(i + 1)\n",
    "        else:\n",
    "            i += 1  # Move to the next item if the next one contains \"References\"\n",
    "    else:\n",
    "        i += 1  # Only move to the next item if no merge happened or if \"References\" was encountered\n",
    "\n",
    "# Print the modified list\n",
    "print(\"Modified Text List:\")\n",
    "for item in text_list:\n",
    "    print(item)\n",
    "print(f\"len : {len(text_list)}\")"
   ]
  },
  {
   "cell_type": "code",
   "execution_count": 119,
   "metadata": {},
   "outputs": [
    {
     "name": "stdout",
     "output_type": "stream",
     "text": [
      "6\n"
     ]
    }
   ],
   "source": [
    "print(len(l))"
   ]
  },
  {
   "cell_type": "code",
   "execution_count": 118,
   "metadata": {},
   "outputs": [],
   "source": [
    "l = text_list.copy()"
   ]
  },
  {
   "cell_type": "code",
   "execution_count": 120,
   "metadata": {},
   "outputs": [],
   "source": [
    "def merge_behavior(l):\n",
    "    for i in range(len(l)): \n",
    "        if \"Behavior and Training Tips\" in l[i]: \n",
    "            # copy this \n",
    "            content = l[i]\n",
    "            l.pop(i)\n",
    "            # add the content to the next item in this list \n",
    "            l[i+1] = content + \" \" + l[i+1]\n",
    "            print(\"_________MERGED_________\")\n",
    "            break\n",
    "\n",
    "    \n",
    "    return l\n",
    "\n",
    "# use \n",
    "new_list = merge_behavior(l)"
   ]
  },
  {
   "cell_type": "code",
   "execution_count": 121,
   "metadata": {},
   "outputs": [
    {
     "data": {
      "text/plain": [
       "6"
      ]
     },
     "execution_count": 121,
     "metadata": {},
     "output_type": "execute_result"
    }
   ],
   "source": [
    "len(new_list)"
   ]
  },
  {
   "cell_type": "code",
   "execution_count": 122,
   "metadata": {},
   "outputs": [
    {
     "data": {
      "text/plain": [
       "['Hokkaido | PetMD petmd.com /dog/breeds/c_dg_hokkaido First known as the Ainu, this dog breed was named after the people it lived with and later the area of Japan it was believed to have originated in. The Hokkaido is known as a great hunter as well as loveable and loyal pet.',\n",
       " 'Physical Characteristics The Hokkaido is a medium-sized dog breed that weighs anywhere from 45 to 65 pounds at a height of 18 to 22 inches. This spitz type breed has small, triangular upright ears and small eyes with triangle markings. The Hokkaido has a thick and harsh double coat that comes in red, brindle, sesame, black or black and tan/white.',\n",
       " 'Personality and Temperament A strong hunter, the Hokkaido is brave, smart, and has a great sense of direction. In addition to this, the Hokkaido is known as a faithful and loving dog that does well with children when it is socialized early enough. The Hokkaido would not make the best apartment dog, as it is an active breed that does best with a large yard.',\n",
       " 'Care Due to its thick coat, the Hokkaido requires daily brushing to maintain the coat and needs moderate daily exercise to stay in shape such as a long walk.',\n",
       " 'Health Considered a generally healthy breed, there are no known health issues specific to the Hokkaido. This breed lives an average life span of 11 to 13 years.',\n",
       " 'History and Background The Hokkaido, which was named after the area where it was developed, is said to have originated when Ainu migrants brought the small dog with them to Japan in the 1140s. In 1937 it was designated a protected species in Japan. In 1996 it was recognized by the UKC. Today the Hokkaido continues to be a popular hunting dog. 10/26/24, 4:53 PM Hokkaido | PetMD https://www.printfriendly.com/p/g/fX2xvh 1/1']"
      ]
     },
     "execution_count": 122,
     "metadata": {},
     "output_type": "execute_result"
    }
   ],
   "source": [
    "new_list"
   ]
  },
  {
   "cell_type": "code",
   "execution_count": null,
   "metadata": {},
   "outputs": [],
   "source": []
  }
 ],
 "metadata": {
  "kernelspec": {
   "display_name": "base",
   "language": "python",
   "name": "python3"
  },
  "language_info": {
   "codemirror_mode": {
    "name": "ipython",
    "version": 3
   },
   "file_extension": ".py",
   "mimetype": "text/x-python",
   "name": "python",
   "nbconvert_exporter": "python",
   "pygments_lexer": "ipython3",
   "version": "3.11.5"
  }
 },
 "nbformat": 4,
 "nbformat_minor": 2
}
