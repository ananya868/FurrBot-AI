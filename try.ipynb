{
 "cells": [
  {
   "cell_type": "code",
   "execution_count": 1,
   "metadata": {},
   "outputs": [],
   "source": [
    "from RAG.qdrant_database import QdrantDatabase"
   ]
  },
  {
   "cell_type": "code",
   "execution_count": 2,
   "metadata": {},
   "outputs": [],
   "source": [
    "import os\n",
    "api = os.environ.get('DB_API')"
   ]
  },
  {
   "cell_type": "code",
   "execution_count": 3,
   "metadata": {},
   "outputs": [
    {
     "name": "stderr",
     "output_type": "stream",
     "text": [
      "c:\\Users\\91790\\anaconda3\\Lib\\site-packages\\transformers\\tokenization_utils_base.py:1601: FutureWarning: `clean_up_tokenization_spaces` was not set. It will be set to `True` by default. This behavior will be depracted in transformers v4.45, and will be then set to `False` by default. For more details check this issue: https://github.com/huggingface/transformers/issues/31884\n",
      "  warnings.warn(\n"
     ]
    }
   ],
   "source": [
    "from qdrant_client import QdrantClient\n",
    "\n",
    "qd = QdrantDatabase(\n",
    "    cluster_uri=\"https://904197e5-0ed4-48c7-9642-0611912311c7.us-east4-0.gcp.cloud.qdrant.io:6333\",\n",
    "    api=api\n",
    ")"
   ]
  },
  {
   "cell_type": "code",
   "execution_count": 4,
   "metadata": {},
   "outputs": [
    {
     "data": {
      "text/plain": [
       "CollectionsResponse(collections=[CollectionDescription(name='furr_bot')])"
      ]
     },
     "execution_count": 4,
     "metadata": {},
     "output_type": "execute_result"
    }
   ],
   "source": [
    "qd.client.get_collections()"
   ]
  },
  {
   "cell_type": "code",
   "execution_count": 5,
   "metadata": {},
   "outputs": [
    {
     "name": "stdout",
     "output_type": "stream",
     "text": [
      "Collection already exist! Don't need to create!\n"
     ]
    }
   ],
   "source": [
    "client = qd.create_collection(\"furr_bot\")"
   ]
  },
  {
   "cell_type": "code",
   "execution_count": 6,
   "metadata": {},
   "outputs": [
    {
     "name": "stderr",
     "output_type": "stream",
     "text": [
      "c:\\Users\\91790\\anaconda3\\Lib\\site-packages\\transformers\\models\\bert\\modeling_bert.py:439: UserWarning: 1Torch was not compiled with flash attention. (Triggered internally at ..\\aten\\src\\ATen\\native\\transformers\\cuda\\sdp_utils.cpp:263.)\n",
      "  attn_output = torch.nn.functional.scaled_dot_product_attention(\n"
     ]
    }
   ],
   "source": [
    "qd.upsert_vectors(\n",
    "    collection_name=\"furr_bot\", \n",
    "    documents=docs \n",
    ")"
   ]
  },
  {
   "cell_type": "code",
   "execution_count": 9,
   "metadata": {},
   "outputs": [],
   "source": [
    "res = qd.query_db(\n",
    "    collection_name=\"furr_bot\",\n",
    "    limits=2, \n",
    "    query=\"What is distopian society?\"\n",
    ")"
   ]
  },
  {
   "cell_type": "code",
   "execution_count": 10,
   "metadata": {},
   "outputs": [
    {
     "data": {
      "text/plain": [
       "[{'name': 'Brave New World',\n",
       "  'description': 'A dystopian society where people are genetically engineered and conditioned to conform to a strict social hierarchy.',\n",
       "  'author': 'Aldous Huxley',\n",
       "  'year': 1932,\n",
       "  'score': 0.49445784},\n",
       " {'name': 'Dune',\n",
       "  'description': 'A desert planet is the site of political intrigue and power struggles.',\n",
       "  'author': 'Frank Herbert',\n",
       "  'year': 1965,\n",
       "  'score': 0.17837292}]"
      ]
     },
     "execution_count": 10,
     "metadata": {},
     "output_type": "execute_result"
    }
   ],
   "source": [
    "res"
   ]
  },
  {
   "cell_type": "markdown",
   "metadata": {},
   "source": [
    "**Upload Our Data to Qdrant**"
   ]
  },
  {
   "cell_type": "code",
   "execution_count": 7,
   "metadata": {},
   "outputs": [],
   "source": [
    "import os \n",
    "\n",
    "# load all file names from a folder path \n",
    "\n",
    "file_paths = [f for f in os.listdir(\"vector_database/text_data\") if f.endswith('.json')]"
   ]
  },
  {
   "cell_type": "code",
   "execution_count": 11,
   "metadata": {},
   "outputs": [],
   "source": [
    "# add folder path to file_paths\n",
    "file_paths = [\"vector_database/text_data/\" + f for f in file_paths]"
   ]
  },
  {
   "cell_type": "code",
   "execution_count": null,
   "metadata": {},
   "outputs": [
    {
     "data": {
      "text/plain": [
       "['vector_database/text_data/Bees.json',\n",
       " 'vector_database/text_data/Birds.json',\n",
       " 'vector_database/text_data/Cats.json',\n",
       " 'vector_database/text_data/Chicken and Ducks.json',\n",
       " 'vector_database/text_data/Chinchillas.json']"
      ]
     },
     "execution_count": 18,
     "metadata": {},
     "output_type": "execute_result"
    }
   ],
   "source": [
    "file_paths[:5] # first 5 "
   ]
  },
  {
   "cell_type": "code",
   "execution_count": 19,
   "metadata": {},
   "outputs": [
    {
     "name": "stderr",
     "output_type": "stream",
     "text": [
      "  0%|          | 0/18 [00:00<?, ?it/s]c:\\Users\\91790\\anaconda3\\Lib\\site-packages\\transformers\\models\\bert\\modeling_bert.py:439: UserWarning: 1Torch was not compiled with flash attention. (Triggered internally at ..\\aten\\src\\ATen\\native\\transformers\\cuda\\sdp_utils.cpp:263.)\n",
      "  attn_output = torch.nn.functional.scaled_dot_product_attention(\n",
      "100%|██████████| 18/18 [10:32<00:00, 35.16s/it]\n"
     ]
    }
   ],
   "source": [
    "import json\n",
    "from tqdm import tqdm\n",
    "\n",
    "with open(file_paths[0], 'r') as f:\n",
    "    data = json.load(f)\n",
    "\n",
    "for items in tqdm(file_paths): \n",
    "    with open(items, 'r') as f:\n",
    "        lst = json.load(f)\n",
    "    qd.upsert_vectors(\n",
    "        collection_name=\"furr_bot\", \n",
    "        documents=lst \n",
    "    )"
   ]
  },
  {
   "cell_type": "code",
   "execution_count": 35,
   "metadata": {},
   "outputs": [],
   "source": [
    "res = qd.query_db(\n",
    "    collection_name=\"furr_bot\",\n",
    "    limits=5, \n",
    "    query=\"personality and temperament the abtenauer is docile\"\n",
    ")\n"
   ]
  },
  {
   "cell_type": "code",
   "execution_count": 36,
   "metadata": {},
   "outputs": [
    {
     "data": {
      "text/plain": [
       "[{'text': 'personality and temperament the is not only calm, gentle, and sensitive, but also very responsive. as such, the dog can be easily trained. it enjoys playing with children and can prove to be a great companion. the is most active and enthusiastic otudoors. despite its confidence and bravery, however, it is wary of strangers and prefers to be at a distance.',\n",
       "  'topic': 'Personality and Temperament',\n",
       "  'blog_name': 'Dogs_Breeds_CurlyCoatedRetriever',\n",
       "  'pet': 'Dogs',\n",
       "  'word_count': 61,\n",
       "  'chunk_size': 72,\n",
       "  'score': 0.4260853},\n",
       " {'text': 'personality and temperament the löwchen is responsive to commands and generally willing to please, showing proper devotion to its family. some dogs may dig or bark a lot. this affectionate, curious, and lively dog also combines qualities of a calm soul-mate and playful spirit, thus making it a nice companion for a calm family.',\n",
       "  'topic': 'Personality and Temperament',\n",
       "  'blog_name': 'Dogs_Breeds_Lowchen',\n",
       "  'pet': 'Dogs',\n",
       "  'word_count': 54,\n",
       "  'chunk_size': 62,\n",
       "  'score': 0.40358502},\n",
       " {'text': 'personality and temperament the japanese terrier has a lively temperament, but is a very loving companion.',\n",
       "  'topic': 'Personality and Temperament',\n",
       "  'blog_name': 'Dogs_Breeds_JapaneseTerrier',\n",
       "  'pet': 'Dogs',\n",
       "  'word_count': 16,\n",
       "  'chunk_size': 18,\n",
       "  'score': 0.40233505},\n",
       " {'text': 'personality and temperament the has a kind and friendly demeanor, with a keen and intelligent attitude. this setter likes to establish a personal relationship and is good with other dogs.',\n",
       "  'topic': 'Personality and Temperament',\n",
       "  'blog_name': 'Dogs_Breeds_IrishRedandWhiteSetter',\n",
       "  'pet': 'Dogs',\n",
       "  'word_count': 30,\n",
       "  'chunk_size': 33,\n",
       "  'score': 0.40092278},\n",
       " {'text': 'behavior and training tips for borzoi borzoi personality and temperament borzoi dogs have a sweet, friendly personality and temperament, making them great with people of all ages, including children. they don’t like rough play, but they are affectionate, silly, and like some low-key games. they can be shy around new people, so it’s important to socialize your borzoi puppy early so to be comfortable around strangers and in new situations.',\n",
       "  'topic': 'Behavior and Training Tips for Borzoi Borzoi Personality and Temperament',\n",
       "  'blog_name': 'Dogs_Breeds_Borzoi',\n",
       "  'pet': 'Dogs',\n",
       "  'word_count': 70,\n",
       "  'chunk_size': 83,\n",
       "  'score': 0.38591284}]"
      ]
     },
     "execution_count": 36,
     "metadata": {},
     "output_type": "execute_result"
    }
   ],
   "source": [
    "res"
   ]
  },
  {
   "cell_type": "code",
   "execution_count": 37,
   "metadata": {},
   "outputs": [
    {
     "data": {
      "text/plain": [
       "CollectionsResponse(collections=[CollectionDescription(name='furr_bot')])"
      ]
     },
     "execution_count": 37,
     "metadata": {},
     "output_type": "execute_result"
    }
   ],
   "source": [
    "qd.client.get_collections()"
   ]
  },
  {
   "cell_type": "code",
   "execution_count": 38,
   "metadata": {},
   "outputs": [
    {
     "data": {
      "text/plain": [
       "True"
      ]
     },
     "execution_count": 38,
     "metadata": {},
     "output_type": "execute_result"
    }
   ],
   "source": [
    "qd.client.delete_collection(\"furr_bot\")"
   ]
  },
  {
   "cell_type": "code",
   "execution_count": null,
   "metadata": {},
   "outputs": [],
   "source": []
  }
 ],
 "metadata": {
  "kernelspec": {
   "display_name": "base",
   "language": "python",
   "name": "python3"
  },
  "language_info": {
   "codemirror_mode": {
    "name": "ipython",
    "version": 3
   },
   "file_extension": ".py",
   "mimetype": "text/x-python",
   "name": "python",
   "nbconvert_exporter": "python",
   "pygments_lexer": "ipython3",
   "version": "3.11.5"
  }
 },
 "nbformat": 4,
 "nbformat_minor": 2
}
