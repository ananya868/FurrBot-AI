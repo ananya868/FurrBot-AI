{
 "cells": [
  {
   "cell_type": "code",
   "execution_count": 1,
   "metadata": {},
   "outputs": [],
   "source": [
    "from RAG.qdrant_database import QdrantDatabase"
   ]
  },
  {
   "cell_type": "code",
   "execution_count": 7,
   "metadata": {},
   "outputs": [],
   "source": [
    "cluster_uri = \"https://904197e5-0ed4-48c7-9642-0611912311c7.us-east4-0.gcp.cloud.qdrant.io\"\n",
    "\n",
    "# qdrant_obj = QdrantDatabase(cluster_uri=cluster_uri)"
   ]
  },
  {
   "cell_type": "code",
   "execution_count": 9,
   "metadata": {},
   "outputs": [],
   "source": [
    "from qdrant_client import models, QdrantClient\n",
    "import os"
   ]
  },
  {
   "cell_type": "code",
   "execution_count": null,
   "metadata": {},
   "outputs": [
    {
     "ename": "TypeError",
     "evalue": "Client.__init__() got an unexpected keyword argument 'cluster_uri'",
     "output_type": "error",
     "traceback": [
      "\u001b[1;31m---------------------------------------------------------------------------\u001b[0m",
      "\u001b[1;31mTypeError\u001b[0m                                 Traceback (most recent call last)",
      "Cell \u001b[1;32mIn[10], line 1\u001b[0m\n\u001b[1;32m----> 1\u001b[0m client \u001b[38;5;241m=\u001b[39m QdrantClient(cluster_uri\u001b[38;5;241m=\u001b[39mcluster_uri, api_key\u001b[38;5;241m=\u001b[39mos\u001b[38;5;241m.\u001b[39menviron\u001b[38;5;241m.\u001b[39mget(\u001b[38;5;124m'\u001b[39m\u001b[38;5;124mQDRANT_API_KEY\u001b[39m\u001b[38;5;124m'\u001b[39m))\n",
      "File \u001b[1;32mc:\\Users\\91790\\anaconda3\\Lib\\site-packages\\qdrant_client\\qdrant_client.py:124\u001b[0m, in \u001b[0;36mQdrantClient.__init__\u001b[1;34m(self, location, url, port, grpc_port, prefer_grpc, https, api_key, prefix, timeout, host, path, force_disable_check_same_thread, grpc_options, auth_token_provider, **kwargs)\u001b[0m\n\u001b[0;32m    122\u001b[0m \u001b[38;5;28;01mif\u001b[39;00m location \u001b[38;5;129;01mis\u001b[39;00m \u001b[38;5;129;01mnot\u001b[39;00m \u001b[38;5;28;01mNone\u001b[39;00m \u001b[38;5;129;01mand\u001b[39;00m url \u001b[38;5;129;01mis\u001b[39;00m \u001b[38;5;28;01mNone\u001b[39;00m:\n\u001b[0;32m    123\u001b[0m     url \u001b[38;5;241m=\u001b[39m location\n\u001b[1;32m--> 124\u001b[0m \u001b[38;5;28mself\u001b[39m\u001b[38;5;241m.\u001b[39m_client \u001b[38;5;241m=\u001b[39m QdrantRemote(\n\u001b[0;32m    125\u001b[0m     url\u001b[38;5;241m=\u001b[39murl,\n\u001b[0;32m    126\u001b[0m     port\u001b[38;5;241m=\u001b[39mport,\n\u001b[0;32m    127\u001b[0m     grpc_port\u001b[38;5;241m=\u001b[39mgrpc_port,\n\u001b[0;32m    128\u001b[0m     prefer_grpc\u001b[38;5;241m=\u001b[39mprefer_grpc,\n\u001b[0;32m    129\u001b[0m     https\u001b[38;5;241m=\u001b[39mhttps,\n\u001b[0;32m    130\u001b[0m     api_key\u001b[38;5;241m=\u001b[39mapi_key,\n\u001b[0;32m    131\u001b[0m     prefix\u001b[38;5;241m=\u001b[39mprefix,\n\u001b[0;32m    132\u001b[0m     timeout\u001b[38;5;241m=\u001b[39mtimeout,\n\u001b[0;32m    133\u001b[0m     host\u001b[38;5;241m=\u001b[39mhost,\n\u001b[0;32m    134\u001b[0m     grpc_options\u001b[38;5;241m=\u001b[39mgrpc_options,\n\u001b[0;32m    135\u001b[0m     auth_token_provider\u001b[38;5;241m=\u001b[39mauth_token_provider,\n\u001b[0;32m    136\u001b[0m     \u001b[38;5;241m*\u001b[39m\u001b[38;5;241m*\u001b[39mkwargs,\n\u001b[0;32m    137\u001b[0m )\n",
      "File \u001b[1;32mc:\\Users\\91790\\anaconda3\\Lib\\site-packages\\qdrant_client\\qdrant_remote.py:168\u001b[0m, in \u001b[0;36mQdrantRemote.__init__\u001b[1;34m(self, url, port, grpc_port, prefer_grpc, https, api_key, prefix, timeout, host, grpc_options, auth_token_provider, **kwargs)\u001b[0m\n\u001b[0;32m    165\u001b[0m     bearer_auth \u001b[38;5;241m=\u001b[39m BearerAuth(\u001b[38;5;28mself\u001b[39m\u001b[38;5;241m.\u001b[39m_auth_token_provider)\n\u001b[0;32m    166\u001b[0m     \u001b[38;5;28mself\u001b[39m\u001b[38;5;241m.\u001b[39m_rest_args[\u001b[38;5;124m\"\u001b[39m\u001b[38;5;124mauth\u001b[39m\u001b[38;5;124m\"\u001b[39m] \u001b[38;5;241m=\u001b[39m bearer_auth\n\u001b[1;32m--> 168\u001b[0m \u001b[38;5;28mself\u001b[39m\u001b[38;5;241m.\u001b[39mopenapi_client: SyncApis[ApiClient] \u001b[38;5;241m=\u001b[39m SyncApis(\n\u001b[0;32m    169\u001b[0m     host\u001b[38;5;241m=\u001b[39m\u001b[38;5;28mself\u001b[39m\u001b[38;5;241m.\u001b[39mrest_uri,\n\u001b[0;32m    170\u001b[0m     \u001b[38;5;241m*\u001b[39m\u001b[38;5;241m*\u001b[39m\u001b[38;5;28mself\u001b[39m\u001b[38;5;241m.\u001b[39m_rest_args,\n\u001b[0;32m    171\u001b[0m )\n\u001b[0;32m    173\u001b[0m \u001b[38;5;28mself\u001b[39m\u001b[38;5;241m.\u001b[39m_grpc_channel \u001b[38;5;241m=\u001b[39m \u001b[38;5;28;01mNone\u001b[39;00m\n\u001b[0;32m    174\u001b[0m \u001b[38;5;28mself\u001b[39m\u001b[38;5;241m.\u001b[39m_grpc_points_client: Optional[grpc\u001b[38;5;241m.\u001b[39mPointsStub] \u001b[38;5;241m=\u001b[39m \u001b[38;5;28;01mNone\u001b[39;00m\n",
      "File \u001b[1;32mc:\\Users\\91790\\anaconda3\\Lib\\site-packages\\qdrant_client\\http\\api_client.py:36\u001b[0m, in \u001b[0;36mSyncApis.__init__\u001b[1;34m(self, host, **kwargs)\u001b[0m\n\u001b[0;32m     35\u001b[0m \u001b[38;5;28;01mdef\u001b[39;00m \u001b[38;5;21m__init__\u001b[39m(\u001b[38;5;28mself\u001b[39m, host: \u001b[38;5;28mstr\u001b[39m \u001b[38;5;241m=\u001b[39m \u001b[38;5;28;01mNone\u001b[39;00m, \u001b[38;5;241m*\u001b[39m\u001b[38;5;241m*\u001b[39mkwargs: Any):\n\u001b[1;32m---> 36\u001b[0m     \u001b[38;5;28mself\u001b[39m\u001b[38;5;241m.\u001b[39mclient \u001b[38;5;241m=\u001b[39m ApiClient(host, \u001b[38;5;241m*\u001b[39m\u001b[38;5;241m*\u001b[39mkwargs)\n\u001b[0;32m     38\u001b[0m     \u001b[38;5;28mself\u001b[39m\u001b[38;5;241m.\u001b[39mbeta_api \u001b[38;5;241m=\u001b[39m SyncBetaApi(\u001b[38;5;28mself\u001b[39m\u001b[38;5;241m.\u001b[39mclient)\n\u001b[0;32m     39\u001b[0m     \u001b[38;5;28mself\u001b[39m\u001b[38;5;241m.\u001b[39mcluster_api \u001b[38;5;241m=\u001b[39m SyncClusterApi(\u001b[38;5;28mself\u001b[39m\u001b[38;5;241m.\u001b[39mclient)\n",
      "File \u001b[1;32mc:\\Users\\91790\\anaconda3\\Lib\\site-packages\\qdrant_client\\http\\api_client.py:60\u001b[0m, in \u001b[0;36mApiClient.__init__\u001b[1;34m(self, host, **kwargs)\u001b[0m\n\u001b[0;32m     58\u001b[0m \u001b[38;5;28mself\u001b[39m\u001b[38;5;241m.\u001b[39mhost \u001b[38;5;241m=\u001b[39m host\n\u001b[0;32m     59\u001b[0m \u001b[38;5;28mself\u001b[39m\u001b[38;5;241m.\u001b[39mmiddleware: MiddlewareT \u001b[38;5;241m=\u001b[39m BaseMiddleware()\n\u001b[1;32m---> 60\u001b[0m \u001b[38;5;28mself\u001b[39m\u001b[38;5;241m.\u001b[39m_client \u001b[38;5;241m=\u001b[39m Client(\u001b[38;5;241m*\u001b[39m\u001b[38;5;241m*\u001b[39mkwargs)\n",
      "\u001b[1;31mTypeError\u001b[0m: Client.__init__() got an unexpected keyword argument 'cluster_uri'"
     ]
    }
   ],
   "source": [
    "client = QdrantClient(cluster_uri, api_key=os.environ.get('QDRANT_API_KEY'))"
   ]
  },
  {
   "cell_type": "code",
   "execution_count": null,
   "metadata": {},
   "outputs": [],
   "source": []
  }
 ],
 "metadata": {
  "kernelspec": {
   "display_name": "base",
   "language": "python",
   "name": "python3"
  },
  "language_info": {
   "codemirror_mode": {
    "name": "ipython",
    "version": 3
   },
   "file_extension": ".py",
   "mimetype": "text/x-python",
   "name": "python",
   "nbconvert_exporter": "python",
   "pygments_lexer": "ipython3",
   "version": "3.11.5"
  }
 },
 "nbformat": 4,
 "nbformat_minor": 2
}
