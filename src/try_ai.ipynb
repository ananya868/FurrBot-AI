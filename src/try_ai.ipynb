{
 "cells": [
  {
   "cell_type": "code",
   "execution_count": 1,
   "metadata": {},
   "outputs": [],
   "source": [
    "from metadata_creation import KeywordsMetadataCreation"
   ]
  },
  {
   "cell_type": "code",
   "execution_count": 2,
   "metadata": {},
   "outputs": [
    {
     "name": "stdout",
     "output_type": "stream",
     "text": [
      "<class 'list'>\n"
     ]
    }
   ],
   "source": [
    "text = \"\"\"Picking Bird Toys Based on Cage Size and Function One of the first things to decide is where your bird’s new toy will go—inside or outside the cage—and in what section of the cage. Make sure your bird’s cage is large enough for the bird toys you want to introduce. Bird toys that are going to stay outside the cage can obviously be larger and more elaborate than those inside the cage. For larger birds, there are many bird playstands, bird perches and toys\\xa0for the top of bird cages. As a rule, I prefer moving a bird away from the cage and allowing him to play on a freestanding playground as opposed to being on top of their cage. Whenever a bird is in their cage, they should be able to freely fly from end to end. Flying is a natural bird behavior, and they should be allowed to fly anytime they wish to. This means that not only do large birds need really large bird cages, but small birds need pretty big bird cages, too. Most birds are kept in cages that are much too small and do not allow them to actually fly. First evaluate whether you have an appropriately sized cage. Even with a cage that has plenty of room to fly, you must also make sure that any toy that is placed inside the cage should be situated so as not to interfere with this activity. Designate a “flying area” of the cage (usually the top half) and keep it free of all hanging bird toys. Then reserve a corner or area in the bottom half of the cage for bird toys\"\"\"\n",
    "obj = KeywordsMetadataCreation(text)\n",
    "print(type(obj.create_metadata()))"
   ]
  },
  {
   "cell_type": "code",
   "execution_count": 3,
   "metadata": {},
   "outputs": [
    {
     "data": {
      "text/plain": [
       "['toys', 'cagesize', 'bird', 'play', 'fly']"
      ]
     },
     "execution_count": 3,
     "metadata": {},
     "output_type": "execute_result"
    }
   ],
   "source": [
    "obj.create_metadata()"
   ]
  },
  {
   "cell_type": "code",
   "execution_count": null,
   "metadata": {},
   "outputs": [],
   "source": []
  }
 ],
 "metadata": {
  "kernelspec": {
   "display_name": "base",
   "language": "python",
   "name": "python3"
  },
  "language_info": {
   "codemirror_mode": {
    "name": "ipython",
    "version": 3
   },
   "file_extension": ".py",
   "mimetype": "text/x-python",
   "name": "python",
   "nbconvert_exporter": "python",
   "pygments_lexer": "ipython3",
   "version": "3.11.5"
  }
 },
 "nbformat": 4,
 "nbformat_minor": 2
}
