{
 "cells": [
  {
   "cell_type": "code",
   "execution_count": 1,
   "id": "c9ba1d9b",
   "metadata": {},
   "outputs": [],
   "source": [
    "import requests "
   ]
  },
  {
   "cell_type": "code",
   "execution_count": 3,
   "id": "3a4496d2",
   "metadata": {},
   "outputs": [],
   "source": [
    "endpoint = \"http://127.0.0.1:8000\"\n",
    "\n",
    "response = requests.get(endpoint + '/health')"
   ]
  },
  {
   "cell_type": "code",
   "execution_count": 4,
   "id": "a3c6aab2",
   "metadata": {},
   "outputs": [
    {
     "name": "stdout",
     "output_type": "stream",
     "text": [
      "{\n",
      "  \"status\": \"healthy\",\n",
      "  \"timestamp\": \"2025-05-19T00:26:38.685019\",\n",
      "  \"uptime_seconds\": 14,\n",
      "  \"memory_usage_mb\": 70.89,\n",
      "  \"active_instances\": 0,\n",
      "  \"instances\": [],\n",
      "  \"db_status\": \"healthy\",\n",
      "  \"llm_status\": \"healthy\"\n",
      "}\n"
     ]
    }
   ],
   "source": [
    "# Print data fetched \n",
    "import json \n",
    "print(json.dumps(response.json(), indent=2))"
   ]
  },
  {
   "cell_type": "code",
   "execution_count": 5,
   "id": "d1d2c7e0",
   "metadata": {},
   "outputs": [],
   "source": [
    "url = \"http://127.0.0.1:8000/ask\"\n",
    "\n",
    "# Input payload matching InputSchema\n",
    "payload = {\n",
    "    \"question\": \"What are the best dog breeds for families?\",\n",
    "    \"namespace\": \"pet_knowledge_base\",\n",
    "    \"llm_provider\": \"openai\",\n",
    "    \"llm_model\": \"gpt-4o\",\n",
    "    \"previous_conversation\": []\n",
    "}\n",
    "\n",
    "# Make the POST request\n",
    "response = requests.post(url, json=payload)"
   ]
  },
  {
   "cell_type": "code",
   "execution_count": 6,
   "id": "772798e6",
   "metadata": {},
   "outputs": [
    {
     "data": {
      "text/plain": [
       "{'answer': \"Hello there! 🐾 When it comes to choosing the best dog breeds for families, there's a lot to consider. Here are some breeds that are known for their friendly and gentle nature, making them great companions for families:\\n\\n1. **Labrador Retriever** 🐕\\n   - Known for their friendly disposition and high energy. Labradors are great with kids and love to play!\\n\\n2. **Golden Retriever** 🐶\\n   - They are exceptionally gentle and great with children. They're also very intelligent and easy to train.\\n\\n3. **Beagle** 🐾\\n   - These little guys are curious, merry, and love being part of the family activities.\\n\\n4. **Bulldog** 🐶\\n   - Bulldogs are patient, loyal, and known to form strong bonds with children.\\n\\n5. **Poodle** 🐩\\n   - Available in standard, miniature, and toy sizes, Poodles are not only intelligent but also hypoallergenic, which is great for families with allergies.\\n\\nRemember, every dog is unique, so it's important to consider the dog's temperament, your family's lifestyle, and the dog's needs when choosing the right breed. 🏠❤️\",\n",
       " 'followup': [{'question': 'What size of dog is best for your living situation?'},\n",
       "  {'question': 'Are there any specific activities your family enjoys that your dog could join?'},\n",
       "  {'question': 'Do you have any other pets that need to get along with a new dog?'}]}"
      ]
     },
     "execution_count": 6,
     "metadata": {},
     "output_type": "execute_result"
    }
   ],
   "source": [
    "json.loads(response.text)"
   ]
  }
 ],
 "metadata": {
  "kernelspec": {
   "display_name": "base",
   "language": "python",
   "name": "python3"
  },
  "language_info": {
   "codemirror_mode": {
    "name": "ipython",
    "version": 3
   },
   "file_extension": ".py",
   "mimetype": "text/x-python",
   "name": "python",
   "nbconvert_exporter": "python",
   "pygments_lexer": "ipython3",
   "version": "3.11.5"
  }
 },
 "nbformat": 4,
 "nbformat_minor": 5
}
