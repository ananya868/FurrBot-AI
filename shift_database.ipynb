{
 "cells": [
  {
   "cell_type": "markdown",
   "id": "f193404f",
   "metadata": {},
   "source": [
    "### **PineCone Vector db**"
   ]
  },
  {
   "cell_type": "code",
   "execution_count": 37,
   "id": "2d14200f",
   "metadata": {},
   "outputs": [],
   "source": [
    "from pinecone import Pinecone"
   ]
  },
  {
   "cell_type": "code",
   "execution_count": null,
   "id": "32cf9f6e",
   "metadata": {},
   "outputs": [],
   "source": [
    "pc = Pinecone(\n",
    "    # api_key = \"\"\n",
    ")"
   ]
  },
  {
   "cell_type": "code",
   "execution_count": 39,
   "id": "09749ceb",
   "metadata": {},
   "outputs": [],
   "source": [
    "index_name = \"furr-bot\""
   ]
  },
  {
   "cell_type": "code",
   "execution_count": 40,
   "id": "10062710",
   "metadata": {},
   "outputs": [
    {
     "name": "stdout",
     "output_type": "stream",
     "text": [
      "Index created\n"
     ]
    }
   ],
   "source": [
    "if not pc.has_index(index_name): \n",
    "    pc.create_index_for_model(\n",
    "        name=index_name, \n",
    "        cloud=\"aws\",\n",
    "        region=\"us-east-1\",\n",
    "        embed={\n",
    "            \"model\":\"llama-text-embed-v2\",\n",
    "            \"field_map\":{\"text\": \"chunk_text\"}\n",
    "        }\n",
    "    )\n",
    "    print(\"Index created\")\n",
    "else:\n",
    "    print(\"Index already exists\")"
   ]
  },
  {
   "cell_type": "code",
   "execution_count": 41,
   "id": "712c3e40",
   "metadata": {},
   "outputs": [
    {
     "data": {
      "text/plain": [
       "[\n",
       "    {\n",
       "        \"name\": \"hotelbookings\",\n",
       "        \"metric\": \"cosine\",\n",
       "        \"host\": \"hotelbookings-tqz6la2.svc.aped-4627-b74a.pinecone.io\",\n",
       "        \"spec\": {\n",
       "            \"serverless\": {\n",
       "                \"cloud\": \"aws\",\n",
       "                \"region\": \"us-east-1\"\n",
       "            }\n",
       "        },\n",
       "        \"status\": {\n",
       "            \"ready\": true,\n",
       "            \"state\": \"Ready\"\n",
       "        },\n",
       "        \"vector_type\": \"dense\",\n",
       "        \"dimension\": 384,\n",
       "        \"deletion_protection\": \"disabled\",\n",
       "        \"tags\": null\n",
       "    },\n",
       "    {\n",
       "        \"name\": \"furr-bot\",\n",
       "        \"metric\": \"cosine\",\n",
       "        \"host\": \"furr-bot-tqz6la2.svc.aped-4627-b74a.pinecone.io\",\n",
       "        \"spec\": {\n",
       "            \"serverless\": {\n",
       "                \"cloud\": \"aws\",\n",
       "                \"region\": \"us-east-1\"\n",
       "            }\n",
       "        },\n",
       "        \"status\": {\n",
       "            \"ready\": true,\n",
       "            \"state\": \"Ready\"\n",
       "        },\n",
       "        \"vector_type\": \"dense\",\n",
       "        \"dimension\": 1024,\n",
       "        \"deletion_protection\": \"disabled\",\n",
       "        \"tags\": null,\n",
       "        \"embed\": {\n",
       "            \"model\": \"llama-text-embed-v2\",\n",
       "            \"field_map\": {\n",
       "                \"text\": \"chunk_text\"\n",
       "            },\n",
       "            \"dimension\": 1024,\n",
       "            \"metric\": \"cosine\",\n",
       "            \"write_parameters\": {\n",
       "                \"dimension\": 1024.0,\n",
       "                \"input_type\": \"passage\",\n",
       "                \"truncate\": \"END\"\n",
       "            },\n",
       "            \"read_parameters\": {\n",
       "                \"dimension\": 1024.0,\n",
       "                \"input_type\": \"query\",\n",
       "                \"truncate\": \"END\"\n",
       "            },\n",
       "            \"vector_type\": \"dense\"\n",
       "        }\n",
       "    }\n",
       "]"
      ]
     },
     "execution_count": 41,
     "metadata": {},
     "output_type": "execute_result"
    }
   ],
   "source": [
    "pc.list_indexes()"
   ]
  },
  {
   "cell_type": "markdown",
   "id": "bc607ceb",
   "metadata": {},
   "source": [
    "Let's Prepare the Docs to upload"
   ]
  },
  {
   "cell_type": "code",
   "execution_count": 42,
   "id": "5ff944ae",
   "metadata": {},
   "outputs": [],
   "source": [
    "data_path = \"vector_database/text_data\""
   ]
  },
  {
   "cell_type": "code",
   "execution_count": 43,
   "id": "475e1be6",
   "metadata": {},
   "outputs": [],
   "source": [
    "import os\n",
    "# Get files ending with .json \n",
    "file_names = [file if file in os.listdir(data_path) else None for file in os.listdir(data_path) if file.endswith(\".json\")]"
   ]
  },
  {
   "cell_type": "code",
   "execution_count": 44,
   "id": "fd0ee3d6",
   "metadata": {},
   "outputs": [
    {
     "data": {
      "text/plain": [
       "['Bees.json', 'Birds.json', 'Cats.json', 'Chicken and Ducks.json']"
      ]
     },
     "execution_count": 44,
     "metadata": {},
     "output_type": "execute_result"
    }
   ],
   "source": [
    "file_names[:4]"
   ]
  },
  {
   "cell_type": "code",
   "execution_count": 45,
   "id": "0342394b",
   "metadata": {},
   "outputs": [],
   "source": [
    "import json\n",
    "# Read sample\n",
    "\n",
    "with open(os.path.join(data_path, file_names[0]), \"r\") as f:\n",
    "    sample = json.load(f)"
   ]
  },
  {
   "cell_type": "code",
   "execution_count": 46,
   "id": "46ee1ee5",
   "metadata": {},
   "outputs": [
    {
     "data": {
      "text/plain": [
       "{'text': 'beekeeping 101 | petmd petmd.com /farm-animal/beekeeping-101 there are 17,000 species of bees in the world and around 80 million beehives. there are 115-125,000 beekeepers in the united states and beekeeping has been around since 15,000 bc. honeybees are integral to agriculture and crops. a third of the diet in the u.s. comes from insect-pollinated plants alone and 80% of those crops are pollinated by honeybees. these crops include blueberries, cranberries, apples, pumpkins, and peaches. 90% of all wild plants depend on animal pollination. without bees, these crops would not thrive. there are other pollinators, like insects, birds, and bats, but honeybees can be moved wherever they need to pollinate. in addition, without honeybees, it is costly to produce certain fruits, legumes, vegetables, nuts, and seeds.',\n",
       " 'topic': 'Beekeeping 101 | PetMD',\n",
       " 'blog_name': 'Beekeeping 101 _ PetMD',\n",
       " 'pet': 'Bees',\n",
       " 'word_count': 125,\n",
       " 'chunk_size': 162}"
      ]
     },
     "execution_count": 46,
     "metadata": {},
     "output_type": "execute_result"
    }
   ],
   "source": [
    "sample[0]"
   ]
  },
  {
   "cell_type": "code",
   "execution_count": 47,
   "id": "e6b4dab5",
   "metadata": {},
   "outputs": [],
   "source": [
    "# Sample data point format to upsert to Pinecone\n",
    "sample_format = [\n",
    "    {\n",
    "        \"_id\": \"rec1\", \n",
    "        \"chunk_text\": \"This is a sample text\",\n",
    "        \"category\": \"cat1\",\n",
    "    }\n",
    "]"
   ]
  },
  {
   "cell_type": "code",
   "execution_count": 48,
   "id": "5d8dadc8",
   "metadata": {},
   "outputs": [
    {
     "data": {
      "text/plain": [
       "['bees', 'birds', 'cats', 'chicken_and_ducks']"
      ]
     },
     "execution_count": 48,
     "metadata": {},
     "output_type": "execute_result"
    }
   ],
   "source": [
    "# Create NameSpaces from file-names \n",
    "# -- These will be the actual namespaces in the index\n",
    "# -- Lower case and replace spaces with underscores\n",
    "# -- Remove .json at the end\n",
    "\n",
    "namespaces = [file_name.lower().replace(\" \", \"_\").replace(\".json\", \"\") for file_name in file_names]\n",
    "namespaces[:4]"
   ]
  },
  {
   "cell_type": "markdown",
   "id": "328483e0",
   "metadata": {},
   "source": [
    "Create data to upsert"
   ]
  },
  {
   "cell_type": "code",
   "execution_count": 49,
   "id": "40043fcf",
   "metadata": {},
   "outputs": [],
   "source": [
    "data_dict = {}\n",
    "for namespace, file_name in zip(namespaces, file_names):\n",
    "    # Load the data from the file\n",
    "    with open(os.path.join(data_path, file_name), \"r\") as f:\n",
    "        sample = json.load(f)\n",
    "    # Data list\n",
    "    data = []\n",
    "    # Create points \n",
    "    for e, i in enumerate(sample): \n",
    "        point = {\n",
    "            \"_id\": f\"rec_{e}\", \n",
    "            \"chunk_text\": i[\"text\"],\n",
    "            \"pet\": i[\"pet\"],\n",
    "            \"topic\": i[\"topic\"],\n",
    "            \"blog_name\": i[\"blog_name\"],\n",
    "            \"word_count\": i[\"word_count\"],\n",
    "            \"chunk_size\": i[\"chunk_size\"]\n",
    "        }\n",
    "        data.append(point)\n",
    "\n",
    "    # Add to the dictionary\n",
    "    data_dict[namespace] = data"
   ]
  },
  {
   "cell_type": "code",
   "execution_count": 50,
   "id": "13d642ee",
   "metadata": {},
   "outputs": [
    {
     "name": "stdout",
     "output_type": "stream",
     "text": [
      "|| bees || --> 8 entries\n",
      "|| birds || --> 884 entries\n",
      "|| cats || --> 966 entries\n",
      "|| chicken_and_ducks || --> 107 entries\n",
      "|| chinchillas || --> 268 entries\n",
      "|| dogs || --> 4949 entries\n",
      "|| ferrets || --> 495 entries\n",
      "|| fish || --> 666 entries\n",
      "|| gerbils || --> 137 entries\n",
      "|| guinea_pigs || --> 353 entries\n",
      "|| hamsters || --> 339 entries\n",
      "|| horses || --> 714 entries\n",
      "|| pigs || --> 13 entries\n",
      "|| prairie_dogs || --> 79 entries\n",
      "|| rabbits || --> 842 entries\n",
      "|| rats || --> 256 entries\n",
      "|| reptiles || --> 119 entries\n",
      "|| sugar_gliders || --> 31 entries\n"
     ]
    }
   ],
   "source": [
    "for k, v in data_dict.items():\n",
    "    print(f\"|| {k} || --> {len(v)} entries\")"
   ]
  },
  {
   "cell_type": "markdown",
   "id": "4cc89935",
   "metadata": {},
   "source": [
    "### Upsert to Index"
   ]
  },
  {
   "cell_type": "code",
   "execution_count": 51,
   "id": "6a5df4d3",
   "metadata": {},
   "outputs": [
    {
     "data": {
      "text/plain": [
       "<pinecone.control.pinecone.Pinecone at 0x27d869df850>"
      ]
     },
     "execution_count": 51,
     "metadata": {},
     "output_type": "execute_result"
    }
   ],
   "source": [
    "pc"
   ]
  },
  {
   "cell_type": "code",
   "execution_count": 52,
   "id": "9c9b643a",
   "metadata": {},
   "outputs": [],
   "source": [
    "index = pc.Index(host=\"https://furr-bot-tqz6la2.svc.aped-4627-b74a.pinecone.io\")"
   ]
  },
  {
   "cell_type": "code",
   "execution_count": 53,
   "id": "a67abca6",
   "metadata": {},
   "outputs": [
    {
     "data": {
      "text/plain": [
       "<pinecone.data.index.Index at 0x27d88ea3550>"
      ]
     },
     "execution_count": 53,
     "metadata": {},
     "output_type": "execute_result"
    }
   ],
   "source": [
    "index"
   ]
  },
  {
   "cell_type": "code",
   "execution_count": null,
   "id": "b1528875",
   "metadata": {},
   "outputs": [],
   "source": [
    "from tqdm import tqdm\n",
    "from itertools import islice\n",
    "\n",
    "def batch_records(records, batch_size):\n",
    "    \"\"\"Yield successive batches from the records list.\"\"\"\n",
    "    it = iter(records)\n",
    "    while True:\n",
    "        batch = list(islice(it, batch_size))\n",
    "        if not batch:\n",
    "            break\n",
    "        yield batch\n",
    "\n",
    "# Upsert the data points to the index in batches\n",
    "for namespace, data_points in tqdm(data_dict.items()):\n",
    "    # Upsert the data points to the index\n",
    "    for batch in batch_records(data_points, 96):\n",
    "        index.upsert_records(\n",
    "            namespace,\n",
    "            batch\n",
    "        )\n",
    "    print(f\"Up-serted {len(data_points)} records to namespace {namespace}\")"
   ]
  },
  {
   "cell_type": "code",
   "execution_count": 54,
   "id": "54ec0c0f",
   "metadata": {},
   "outputs": [
    {
     "name": "stdout",
     "output_type": "stream",
     "text": [
      "['bees', 'birds', 'cats', 'chicken_and_ducks', 'chinchillas', 'dogs', 'ferrets', 'fish', 'gerbils', 'guinea_pigs', 'hamsters', 'horses', 'pigs', 'prairie_dogs', 'rabbits', 'rats', 'reptiles', 'sugar_gliders']\n"
     ]
    }
   ],
   "source": [
    "print(namespaces)"
   ]
  },
  {
   "cell_type": "code",
   "execution_count": 55,
   "id": "85e1de99",
   "metadata": {},
   "outputs": [
    {
     "name": "stdout",
     "output_type": "stream",
     "text": [
      "Up-serted Bees records\n"
     ]
    }
   ],
   "source": [
    "# Upload Bees \n",
    "for batch in batch_records(data_dict[\"bees\"], 96):\n",
    "    index.upsert_records(\n",
    "        \"bees\",\n",
    "        batch\n",
    "    )\n",
    "    print(\"Up-serted Bees records\")"
   ]
  },
  {
   "cell_type": "code",
   "execution_count": 57,
   "id": "22a3c60f",
   "metadata": {},
   "outputs": [
    {
     "name": "stdout",
     "output_type": "stream",
     "text": [
      "Up-serted Birds records\n"
     ]
    }
   ],
   "source": [
    "# Upload Birds \n",
    "for batch in batch_records(data_dict[\"birds\"], 96):\n",
    "    index.upsert_records(\n",
    "        \"birds\",\n",
    "        batch\n",
    "    )\n",
    "print(\"Up-serted Birds records\")"
   ]
  },
  {
   "cell_type": "code",
   "execution_count": 58,
   "id": "46b9ceae",
   "metadata": {},
   "outputs": [
    {
     "name": "stdout",
     "output_type": "stream",
     "text": [
      "Up-serted Cats records\n"
     ]
    }
   ],
   "source": [
    "# Upload Cats \n",
    "for batch in batch_records(data_dict[\"cats\"], 96):\n",
    "    index.upsert_records(\n",
    "        \"cats\",\n",
    "        batch\n",
    "    )\n",
    "print(\"Up-serted Cats records\")"
   ]
  },
  {
   "cell_type": "code",
   "execution_count": 60,
   "id": "7c19a2ff",
   "metadata": {},
   "outputs": [
    {
     "name": "stdout",
     "output_type": "stream",
     "text": [
      "Up-serted Chickens and Ducks records\n"
     ]
    }
   ],
   "source": [
    "# Upload Chicken and Ducks\n",
    "for batch in batch_records(data_dict[\"chicken_and_ducks\"], 96):\n",
    "    index.upsert_records(\n",
    "        \"chicken_and_ducks\",\n",
    "        batch\n",
    "    )\n",
    "print(\"Up-serted Chickens and Ducks records\")"
   ]
  },
  {
   "cell_type": "code",
   "execution_count": 61,
   "id": "500a11ca",
   "metadata": {},
   "outputs": [
    {
     "name": "stdout",
     "output_type": "stream",
     "text": [
      "Up-serted Chinchillas records\n"
     ]
    }
   ],
   "source": [
    "# Upload Chinchillas \n",
    "for batch in batch_records(data_dict[\"chinchillas\"], 96):\n",
    "    index.upsert_records(\n",
    "        \"chinchillas\",\n",
    "        batch\n",
    "    )\n",
    "print(\"Up-serted Chinchillas records\")"
   ]
  },
  {
   "cell_type": "code",
   "execution_count": 62,
   "id": "8aff61ee",
   "metadata": {},
   "outputs": [
    {
     "name": "stdout",
     "output_type": "stream",
     "text": [
      "Up-serted Ferrets records\n"
     ]
    }
   ],
   "source": [
    "# Upload Ferrets \n",
    "for batch in batch_records(data_dict[\"ferrets\"], 96):\n",
    "    index.upsert_records(\n",
    "        \"ferrets\",\n",
    "        batch\n",
    "    )\n",
    "print(\"Up-serted Ferrets records\")"
   ]
  },
  {
   "cell_type": "code",
   "execution_count": 63,
   "id": "87322aed",
   "metadata": {},
   "outputs": [
    {
     "name": "stdout",
     "output_type": "stream",
     "text": [
      "Up-serted Fish records\n"
     ]
    }
   ],
   "source": [
    "# Upload Fish \n",
    "for batch in batch_records(data_dict[\"fish\"], 96):\n",
    "    index.upsert_records(\n",
    "        \"fish\",\n",
    "        batch\n",
    "    )\n",
    "print(\"Up-serted Fish records\")"
   ]
  },
  {
   "cell_type": "code",
   "execution_count": 68,
   "id": "f7dc65cc",
   "metadata": {},
   "outputs": [
    {
     "name": "stdout",
     "output_type": "stream",
     "text": [
      "Empty chunk_text found in gerbils\n"
     ]
    }
   ],
   "source": [
    "# Upload Gerbils \n",
    "# check if gerbils have any empty chunk_text values\n",
    "for i in data_dict[\"gerbils\"]:\n",
    "    if i[\"chunk_text\"] == \"\":\n",
    "        print(\"Empty chunk_text found in gerbils\")\n",
    "        break\n",
    "\n",
    "# Remove it \n",
    "data_dict[\"gerbils\"] = [i for i in data_dict[\"gerbils\"] if i[\"chunk_text\"] != \"\"]"
   ]
  },
  {
   "cell_type": "code",
   "execution_count": 69,
   "id": "1693d799",
   "metadata": {},
   "outputs": [
    {
     "name": "stdout",
     "output_type": "stream",
     "text": [
      "Up-serted Gerbils records\n"
     ]
    }
   ],
   "source": [
    "for batch in batch_records(data_dict[\"gerbils\"], 96):\n",
    "    index.upsert_records(\n",
    "        \"gerbils\",\n",
    "        batch\n",
    "    )\n",
    "print(\"Up-serted Gerbils records\")"
   ]
  },
  {
   "cell_type": "code",
   "execution_count": 70,
   "id": "3c43a873",
   "metadata": {},
   "outputs": [
    {
     "name": "stdout",
     "output_type": "stream",
     "text": [
      "Up-serted Guinea Pigs records\n"
     ]
    }
   ],
   "source": [
    "# Upload Guinea Pigs\n",
    "for batch in batch_records(data_dict[\"guinea_pigs\"], 96):\n",
    "    index.upsert_records(\n",
    "        \"guinea_pigs\",\n",
    "        batch\n",
    "    )\n",
    "print(\"Up-serted Guinea Pigs records\")"
   ]
  },
  {
   "cell_type": "code",
   "execution_count": 71,
   "id": "1086c9f0",
   "metadata": {},
   "outputs": [
    {
     "name": "stdout",
     "output_type": "stream",
     "text": [
      "Up-serted Hamsters records\n"
     ]
    }
   ],
   "source": [
    "# Upload Hamsters \n",
    "for batch in batch_records(data_dict[\"hamsters\"], 96):\n",
    "    index.upsert_records(\n",
    "        \"hamsters\",\n",
    "        batch\n",
    "    )\n",
    "print(\"Up-serted Hamsters records\")"
   ]
  },
  {
   "cell_type": "code",
   "execution_count": 72,
   "id": "5b7457de",
   "metadata": {},
   "outputs": [
    {
     "name": "stdout",
     "output_type": "stream",
     "text": [
      "Up-serted Horses records\n"
     ]
    }
   ],
   "source": [
    "# Upload Horses \n",
    "for batch in batch_records(data_dict[\"horses\"], 96):\n",
    "    index.upsert_records(\n",
    "        \"horses\",\n",
    "        batch\n",
    "    )\n",
    "print(\"Up-serted Horses records\")"
   ]
  },
  {
   "cell_type": "code",
   "execution_count": 73,
   "id": "3e860a8d",
   "metadata": {},
   "outputs": [
    {
     "name": "stdout",
     "output_type": "stream",
     "text": [
      "Up-serted Pigs records\n"
     ]
    }
   ],
   "source": [
    "# Upload Pigs \n",
    "for batch in batch_records(data_dict[\"pigs\"], 96):\n",
    "    index.upsert_records(\n",
    "        \"pigs\",\n",
    "        batch\n",
    "    )\n",
    "print(\"Up-serted Pigs records\")"
   ]
  },
  {
   "cell_type": "code",
   "execution_count": 74,
   "id": "179e6f55",
   "metadata": {},
   "outputs": [
    {
     "name": "stdout",
     "output_type": "stream",
     "text": [
      "Up-serted Prairie Dogs records\n"
     ]
    }
   ],
   "source": [
    "# Upload Prairie Dogs\n",
    "for batch in batch_records(data_dict[\"prairie_dogs\"], 96):\n",
    "    index.upsert_records(\n",
    "        \"prairie_dogs\",\n",
    "        batch\n",
    "    )\n",
    "print(\"Up-serted Prairie Dogs records\")"
   ]
  },
  {
   "cell_type": "code",
   "execution_count": 75,
   "id": "32d47781",
   "metadata": {},
   "outputs": [
    {
     "name": "stdout",
     "output_type": "stream",
     "text": [
      "Up-serted Rabbits records\n"
     ]
    }
   ],
   "source": [
    "# Upload Rabbits \n",
    "for batch in batch_records(data_dict[\"rabbits\"], 96):\n",
    "    index.upsert_records(\n",
    "        \"rabbits\",\n",
    "        batch\n",
    "    )\n",
    "print(\"Up-serted Rabbits records\")"
   ]
  },
  {
   "cell_type": "code",
   "execution_count": 97,
   "id": "505ecbf3",
   "metadata": {},
   "outputs": [
    {
     "name": "stdout",
     "output_type": "stream",
     "text": [
      "Up-serted Rats records\n"
     ]
    }
   ],
   "source": [
    "# Upload Rats \n",
    "for batch in batch_records(data_dict[\"rats\"], 96):\n",
    "    index.upsert_records(\n",
    "        \"rats\",\n",
    "        batch\n",
    "    )\n",
    "print(\"Up-serted Rats records\")"
   ]
  },
  {
   "cell_type": "code",
   "execution_count": 76,
   "id": "bce6dd5e",
   "metadata": {},
   "outputs": [
    {
     "name": "stdout",
     "output_type": "stream",
     "text": [
      "Up-serted Reptiles records\n"
     ]
    }
   ],
   "source": [
    "# Upload Reptiles\n",
    "for batch in batch_records(data_dict[\"reptiles\"], 96):\n",
    "    index.upsert_records(\n",
    "        \"reptiles\",\n",
    "        batch\n",
    "    )\n",
    "print(\"Up-serted Reptiles records\")"
   ]
  },
  {
   "cell_type": "code",
   "execution_count": 77,
   "id": "80002200",
   "metadata": {},
   "outputs": [
    {
     "name": "stdout",
     "output_type": "stream",
     "text": [
      "Up-serted Sugar Gliders records\n"
     ]
    }
   ],
   "source": [
    "# Upload Sugar Gliders\n",
    "for batch in batch_records(data_dict[\"sugar_gliders\"], 96):\n",
    "    index.upsert_records(\n",
    "        \"sugar_gliders\",\n",
    "        batch\n",
    "    )\n",
    "print(\"Up-serted Sugar Gliders records\")"
   ]
  },
  {
   "cell_type": "markdown",
   "id": "6762471b",
   "metadata": {},
   "source": [
    "Upload Dogs Data"
   ]
  },
  {
   "cell_type": "markdown",
   "id": "67b06a6c",
   "metadata": {},
   "source": [
    "Since there are limitations on upserting per minute in Pinecone, We will divide the data into batches of 900.."
   ]
  },
  {
   "cell_type": "code",
   "execution_count": 79,
   "id": "275593d7",
   "metadata": {},
   "outputs": [
    {
     "data": {
      "text/plain": [
       "4949"
      ]
     },
     "execution_count": 79,
     "metadata": {},
     "output_type": "execute_result"
    }
   ],
   "source": [
    "len(data_dict.get('dogs'))"
   ]
  },
  {
   "cell_type": "code",
   "execution_count": 81,
   "id": "5c15f990",
   "metadata": {},
   "outputs": [],
   "source": [
    "4949/5\n",
    "# Divide the data into 5 batches of 1000 records each\n",
    "dogs = data_dict.get('dogs')\n",
    "dogs_batches = [dogs[i:i + 1000] for i in range(0, len(dogs), 1000)]"
   ]
  },
  {
   "cell_type": "code",
   "execution_count": 85,
   "id": "31a2a4f3",
   "metadata": {},
   "outputs": [
    {
     "data": {
      "text/plain": [
       "1000"
      ]
     },
     "execution_count": 85,
     "metadata": {},
     "output_type": "execute_result"
    }
   ],
   "source": [
    "len(dogs_batches[0])"
   ]
  },
  {
   "cell_type": "code",
   "execution_count": 86,
   "id": "b345078c",
   "metadata": {},
   "outputs": [
    {
     "name": "stdout",
     "output_type": "stream",
     "text": [
      "Up-serted Dogs records batch 1\n"
     ]
    }
   ],
   "source": [
    "# Upload Dogs \n",
    "for batch in batch_records(dogs_batches[0], 96):\n",
    "    index.upsert_records(\n",
    "        \"dogs\",\n",
    "        batch\n",
    "    )\n",
    "print(\"Up-serted Dogs records batch 1\")"
   ]
  },
  {
   "cell_type": "code",
   "execution_count": 87,
   "id": "54003763",
   "metadata": {},
   "outputs": [
    {
     "name": "stdout",
     "output_type": "stream",
     "text": [
      "Up-serted Dogs records batch 2\n"
     ]
    }
   ],
   "source": [
    "for batch in batch_records(dogs_batches[1], 96):\n",
    "    index.upsert_records(\n",
    "        \"dogs\",\n",
    "        batch\n",
    "    )\n",
    "print(\"Up-serted Dogs records batch 2\")"
   ]
  },
  {
   "cell_type": "code",
   "execution_count": 88,
   "id": "818f735c",
   "metadata": {},
   "outputs": [
    {
     "name": "stdout",
     "output_type": "stream",
     "text": [
      "Up-serted Dogs records batch 3\n"
     ]
    }
   ],
   "source": [
    "for batch in batch_records(dogs_batches[2], 96):\n",
    "    index.upsert_records(\n",
    "        \"dogs\",\n",
    "        batch\n",
    "    )\n",
    "print(\"Up-serted Dogs records batch 3\")"
   ]
  },
  {
   "cell_type": "code",
   "execution_count": 89,
   "id": "49079509",
   "metadata": {},
   "outputs": [
    {
     "name": "stdout",
     "output_type": "stream",
     "text": [
      "Up-serted Dogs records batch 4\n"
     ]
    }
   ],
   "source": [
    "for batch in batch_records(dogs_batches[3], 96):\n",
    "    index.upsert_records(\n",
    "        \"dogs\",\n",
    "        batch\n",
    "    )\n",
    "print(\"Up-serted Dogs records batch 4\")"
   ]
  },
  {
   "cell_type": "code",
   "execution_count": 94,
   "id": "a45266e1",
   "metadata": {},
   "outputs": [
    {
     "name": "stdout",
     "output_type": "stream",
     "text": [
      "Up-serted Dogs records batch 5\n"
     ]
    }
   ],
   "source": [
    "for batch in batch_records(dogs_batches[4], 96):\n",
    "    index.upsert_records(\n",
    "        \"dogs\",\n",
    "        batch\n",
    "    )\n",
    "print(\"Up-serted Dogs records batch 5\")"
   ]
  },
  {
   "cell_type": "code",
   "execution_count": 98,
   "id": "b2de71da",
   "metadata": {},
   "outputs": [
    {
     "name": "stdout",
     "output_type": "stream",
     "text": [
      "Total number of data points uploaded: 11225\n"
     ]
    }
   ],
   "source": [
    "# Sum the total number of data points thats uploaded \n",
    "total = 0\n",
    "for k, v in data_dict.items():\n",
    "    total += len(v)\n",
    "print(f\"Total number of data points uploaded: {total}\")"
   ]
  },
  {
   "cell_type": "markdown",
   "id": "ad66a555",
   "metadata": {},
   "source": [
    "**Data Up-sertion Successful**\n",
    "\n",
    "---\n",
    "### **Querying**"
   ]
  },
  {
   "cell_type": "code",
   "execution_count": null,
   "id": "7cc7b60b",
   "metadata": {},
   "outputs": [
    {
     "data": {
      "text/plain": [
       "<pinecone.data.index.Index at 0x27d88ea3550>"
      ]
     },
     "execution_count": 100,
     "metadata": {},
     "output_type": "execute_result"
    }
   ],
   "source": [
    "if not index:\n",
    "    # index = pc.Index(host=\"\")\n",
    "\n",
    "index "
   ]
  },
  {
   "cell_type": "code",
   "execution_count": 125,
   "id": "19d1195b",
   "metadata": {},
   "outputs": [
    {
     "name": "stdout",
     "output_type": "stream",
     "text": [
      "Took 0.5260226726531982 seconds\n"
     ]
    }
   ],
   "source": [
    "import time \n",
    "\n",
    "s = time.time()\n",
    "results = index.search(\n",
    "    namespace=\"dogs\", \n",
    "    query={\n",
    "        \"inputs\": {\"text\": \"How do i train my shihtzu to stop barking?\"}, \n",
    "        \"top_k\": 10\n",
    "    },\n",
    "    rerank = {\n",
    "        \"model\": \"bge-reranker-v2-m3\", \n",
    "        \"top_n\": 5, \n",
    "        \"rank_fields\": [\"chunk_text\"]\n",
    "    },\n",
    "    fields=[\"chunk_text\"]\n",
    ")\n",
    "\n",
    "print(f\"Took {time.time() - s} seconds\")"
   ]
  },
  {
   "cell_type": "code",
   "execution_count": 135,
   "id": "7f5a72b2",
   "metadata": {},
   "outputs": [],
   "source": [
    "# results.result.hits"
   ]
  },
  {
   "cell_type": "code",
   "execution_count": 133,
   "id": "ee120295",
   "metadata": {},
   "outputs": [
    {
     "name": "stdout",
     "output_type": "stream",
     "text": [
      "caring for a shih tzu shih tzu are pleasant and energetic companions. they are generally happy and sociable with people—and other animals—of all ages and prefer to not spend their time alone. like all dogs, shih tzu puppies should be socialized at a young age to avoid any anxiety. otherwise, they might display bad behaviors such as barking excessively or digging in your back yard. all dogs, including the shih tzu, require exercise, but this breed is often satisfied with a 30-minute walk and at-home playtime. shih tzu love to be spoiled with attention and treats; they love to please their pet parents and are usually quick to learn new tricks to get the treats and praise they crave. most of a shih tzu dog’s upkeep deals with their long, luxurious double haircoat that grows continuously. they don’t shed much and are considered a “hypoallergenic” dog breed, though no dog breed is truly hypoallergenic. their coat is also prone to tangling and matting. , this coat is often shaved short into a \"puppy cut” to avoid continuous grooming, and if left uncut, the fur can grow so long that it drags on the ground. if a shih tzu’s coat is kept longer, brushing and bathing will be a weekly chore, with professional grooming appointments sprinkled in every few weeks. another important thing to know about shih tzu: they are brachycephalic, meaning they have a short, squished muzzle. this can put them at a higher risk for overheating or heatstroke, so they need to stay out of the hot summer weather.\n",
      "shih tzu training shih tzu are people pleasers and are usually easy to train. they prefer high-reward treats and positive reinforcement when training. just make sure to count how many calories your pup is getting from treats—these can add up fast in a small breed like the shih tzu and lead to extra weight.\n",
      "shih-poo training all dogs go through a critical development period from birth to around 16 weeks of age. during this time, they learn how to interact with humans and other animals. talk to your shih-poo breeder about how they approach socialization. if done well, it can pay big dividends in adulthood. both shih tzu and toy poodles are quite trainable, in part because shih tzu are so eager to please and poodles are so eager to show off their smarts. the shih-poo combines both qualities, though their confidence can lead to a bit of willfulness at times. consistent positive reinforcement training that uses rewards instead of punishment is the best way to teach your pup while building the human-animal bond. just remember that if you’re using treats as a reward, you need to factor them into your dog’s daily calorie count. play, toys, and other things your dog enjoys can also be used as rewards. , \n",
      "yorkiepoo behavior don’t be fooled by the yorkiepoo’s size: he is a small dog with a big personality! while the breed is charismatic and affectionate, these pups also aren’t afraid to voice their opinions, especially when they want attention. to prevent excess barking, nichols advises pet parents to keep their yorkiepoo mentally stimulated and train him from an early age, even though the breed can be stubborn. “i believe every dog can be trained to not bark,” she says. “a yorkiepoo just might be slightly more complicated, and you might have to be extraordinarily consistent.” yorkiepoos are independent but also adore spending time with their families, so it’s best not to leave them home alone for too long. doing so can cause the pups to develop separation anxiety and can encourage negative behavior, like the constant barking. , \n",
      "shichon faqs do shichon dogs bark a lot? all dogs bark, and shichons often bark to alert their family. they also resort to barking out of boredom if they aren’t getting enough attention and exercise. , are shichons good pets? yes, shichons are easy to love and accommodate, thanks to their small size and ability to befriend people of all ages. they can be a great option for first-time dog parents and apartment dwellers. are shichons hard to potty train? every dog is an individual and will take to potty training at a different rate. but shichons are eager to please their families, so they may pick up potty training quicker than other breeds. written by sarah mouton dowdy freelance writer , \n"
     ]
    }
   ],
   "source": [
    "for i in results.result.hits:\n",
    "    print(i.get('fields').get('chunk_text'))"
   ]
  },
  {
   "cell_type": "code",
   "execution_count": 106,
   "id": "c61bd86c",
   "metadata": {},
   "outputs": [
    {
     "data": {
      "text/plain": [
       "pinecone.core.openapi.db_data.model.search_records_response.SearchRecordsResponse"
      ]
     },
     "execution_count": 106,
     "metadata": {},
     "output_type": "execute_result"
    }
   ],
   "source": [
    "type(results)"
   ]
  },
  {
   "cell_type": "code",
   "execution_count": 117,
   "id": "8ec7dcf9",
   "metadata": {},
   "outputs": [
    {
     "data": {
      "text/plain": [
       "list"
      ]
     },
     "execution_count": 117,
     "metadata": {},
     "output_type": "execute_result"
    }
   ],
   "source": [
    "type(results.result.hits)"
   ]
  },
  {
   "cell_type": "code",
   "execution_count": 118,
   "id": "2c8cb08d",
   "metadata": {},
   "outputs": [
    {
     "data": {
      "text/plain": [
       "{'_id': 'rec_4274',\n",
       " '_score': 0.5192688703536987,\n",
       " 'fields': {'chunk_text': 'siberian husky training training should start when '\n",
       "                          'your siberian husky is a puppy to correct unwanted '\n",
       "                          'behaviors before they become adults. huskies need '\n",
       "                          'to be leash trained so they don’t run off to '\n",
       "                          'explore on their own. they also need to be trained '\n",
       "                          'to avoid excessive barking and howling. huskies can '\n",
       "                          'be independent, which can make them more difficult '\n",
       "                          'to train than some other breeds. training your '\n",
       "                          'husky needs to start as soon as you bring them home '\n",
       "                          'and be consistent. training with treats before '\n",
       "                          'mealtimes can motivate your pup to work extra hard. '\n",
       "                          'as with most puppies, training sessions should be '\n",
       "                          'short, frequent, and with ample positive '\n",
       "                          'reinforcement.'}}"
      ]
     },
     "execution_count": 118,
     "metadata": {},
     "output_type": "execute_result"
    }
   ],
   "source": [
    "results.result.hits[0]"
   ]
  },
  {
   "cell_type": "code",
   "execution_count": 119,
   "id": "16642454",
   "metadata": {},
   "outputs": [
    {
     "data": {
      "text/plain": [
       "{'result': {'hits': [{'_id': 'rec_4274',\n",
       "                      '_score': 0.5192688703536987,\n",
       "                      'fields': {'chunk_text': 'siberian husky training '\n",
       "                                               'training should start when '\n",
       "                                               'your siberian husky is a puppy '\n",
       "                                               'to correct unwanted behaviors '\n",
       "                                               'before they become adults. '\n",
       "                                               'huskies need to be leash '\n",
       "                                               'trained so they don’t run off '\n",
       "                                               'to explore on their own. they '\n",
       "                                               'also need to be trained to '\n",
       "                                               'avoid excessive barking and '\n",
       "                                               'howling. huskies can be '\n",
       "                                               'independent, which can make '\n",
       "                                               'them more difficult to train '\n",
       "                                               'than some other breeds. '\n",
       "                                               'training your husky needs to '\n",
       "                                               'start as soon as you bring '\n",
       "                                               'them home and be consistent. '\n",
       "                                               'training with treats before '\n",
       "                                               'mealtimes can motivate your '\n",
       "                                               'pup to work extra hard. as '\n",
       "                                               'with most puppies, training '\n",
       "                                               'sessions should be short, '\n",
       "                                               'frequent, and with ample '\n",
       "                                               'positive reinforcement.'}},\n",
       "                     {'_id': 'rec_4228',\n",
       "                      '_score': 0.5132527351379395,\n",
       "                      'fields': {'chunk_text': 'shih tzu training shih tzu are '\n",
       "                                               'people pleasers and are '\n",
       "                                               'usually easy to train. they '\n",
       "                                               'prefer high-reward treats and '\n",
       "                                               'positive reinforcement when '\n",
       "                                               'training. just make sure to '\n",
       "                                               'count how many calories your '\n",
       "                                               'pup is getting from '\n",
       "                                               'treats—these can add up fast '\n",
       "                                               'in a small breed like the shih '\n",
       "                                               'tzu and lead to extra '\n",
       "                                               'weight.'}},\n",
       "                     {'_id': 'rec_4590',\n",
       "                      '_score': 0.501518189907074,\n",
       "                      'fields': {'chunk_text': 'tibetan terrier behavior '\n",
       "                                               'tibetan terriers were bred to '\n",
       "                                               'be companion pets and are '\n",
       "                                               'devoted to their family '\n",
       "                                               'members. because of this, they '\n",
       "                                               'may develop separation anxiety '\n",
       "                                               'when left alone. it’s '\n",
       "                                               'important to crate train '\n",
       "                                               'puppies at an early age and '\n",
       "                                               'provide interactive toys when '\n",
       "                                               'they’re left alone to help '\n",
       "                                               'keep them occupied. tibetan '\n",
       "                                               'terriers can bark at things '\n",
       "                                               'they deem a threat, including '\n",
       "                                               'neighbors walking by or a '\n",
       "                                               'delivery person ringing the '\n",
       "                                               'doorbell. early socialization '\n",
       "                                               'and positive reinforcement can '\n",
       "                                               'help keep your pup from '\n",
       "                                               'barking excessively.'}},\n",
       "                     {'_id': 'rec_4202',\n",
       "                      '_score': 0.49487221240997314,\n",
       "                      'fields': {'chunk_text': 'shih-poo training all dogs go '\n",
       "                                               'through a critical development '\n",
       "                                               'period from birth to around 16 '\n",
       "                                               'weeks of age. during this '\n",
       "                                               'time, they learn how to '\n",
       "                                               'interact with humans and other '\n",
       "                                               'animals. talk to your shih-poo '\n",
       "                                               'breeder about how they '\n",
       "                                               'approach socialization. if '\n",
       "                                               'done well, it can pay big '\n",
       "                                               'dividends in adulthood. both '\n",
       "                                               'shih tzu and toy poodles are '\n",
       "                                               'quite trainable, in part '\n",
       "                                               'because shih tzu are so eager '\n",
       "                                               'to please and poodles are so '\n",
       "                                               'eager to show off their '\n",
       "                                               'smarts. the shih-poo combines '\n",
       "                                               'both qualities, though their '\n",
       "                                               'confidence can lead to a bit '\n",
       "                                               'of willfulness at times. '\n",
       "                                               'consistent positive '\n",
       "                                               'reinforcement training that '\n",
       "                                               'uses rewards instead of '\n",
       "                                               'punishment is the best way to '\n",
       "                                               'teach your pup while building '\n",
       "                                               'the human-animal bond. just '\n",
       "                                               'remember that if you’re using '\n",
       "                                               'treats as a reward, you need '\n",
       "                                               'to factor them into your dog’s '\n",
       "                                               'daily calorie count. play, '\n",
       "                                               'toys, and other things your '\n",
       "                                               'dog enjoys can also be used as '\n",
       "                                               'rewards. , '}},\n",
       "                     {'_id': 'rec_4211',\n",
       "                      '_score': 0.4947722256183624,\n",
       "                      'fields': {'chunk_text': 'caring for a shih tzu shih tzu '\n",
       "                                               'are pleasant and energetic '\n",
       "                                               'companions. they are generally '\n",
       "                                               'happy and sociable with '\n",
       "                                               'people—and other animals—of '\n",
       "                                               'all ages and prefer to not '\n",
       "                                               'spend their time alone. like '\n",
       "                                               'all dogs, shih tzu puppies '\n",
       "                                               'should be socialized at a '\n",
       "                                               'young age to avoid any '\n",
       "                                               'anxiety. otherwise, they might '\n",
       "                                               'display bad behaviors such as '\n",
       "                                               'barking excessively or digging '\n",
       "                                               'in your back yard. all dogs, '\n",
       "                                               'including the shih tzu, '\n",
       "                                               'require exercise, but this '\n",
       "                                               'breed is often satisfied with '\n",
       "                                               'a 30-minute walk and at-home '\n",
       "                                               'playtime. shih tzu love to be '\n",
       "                                               'spoiled with attention and '\n",
       "                                               'treats; they love to please '\n",
       "                                               'their pet parents and are '\n",
       "                                               'usually quick to learn new '\n",
       "                                               'tricks to get the treats and '\n",
       "                                               'praise they crave. most of a '\n",
       "                                               'shih tzu dog’s upkeep deals '\n",
       "                                               'with their long, luxurious '\n",
       "                                               'double haircoat that grows '\n",
       "                                               'continuously. they don’t shed '\n",
       "                                               'much and are considered a '\n",
       "                                               '“hypoallergenic” dog breed, '\n",
       "                                               'though no dog breed is truly '\n",
       "                                               'hypoallergenic. their coat is '\n",
       "                                               'also prone to tangling and '\n",
       "                                               'matting. , this coat is often '\n",
       "                                               'shaved short into a \"puppy '\n",
       "                                               'cut” to avoid continuous '\n",
       "                                               'grooming, and if left uncut, '\n",
       "                                               'the fur can grow so long that '\n",
       "                                               'it drags on the ground. if a '\n",
       "                                               'shih tzu’s coat is kept '\n",
       "                                               'longer, brushing and bathing '\n",
       "                                               'will be a weekly chore, with '\n",
       "                                               'professional grooming '\n",
       "                                               'appointments sprinkled in '\n",
       "                                               'every few weeks. another '\n",
       "                                               'important thing to know about '\n",
       "                                               'shih tzu: they are '\n",
       "                                               'brachycephalic, meaning they '\n",
       "                                               'have a short, squished muzzle. '\n",
       "                                               'this can put them at a higher '\n",
       "                                               'risk for overheating or '\n",
       "                                               'heatstroke, so they need to '\n",
       "                                               'stay out of the hot summer '\n",
       "                                               'weather.'}},\n",
       "                     {'_id': 'rec_4569',\n",
       "                      '_score': 0.48849552869796753,\n",
       "                      'fields': {'chunk_text': 'tibetan spaniel training '\n",
       "                                               'tibbies have an independent '\n",
       "                                               'streak, so training takes '\n",
       "                                               'patience. they’re eager to '\n",
       "                                               'please, though, so it’s '\n",
       "                                               'important to start training '\n",
       "                                               'tibetan spaniel puppies early. '\n",
       "                                               'like all dogs, use positive '\n",
       "                                               'reinforcement training '\n",
       "                                               'techniques with lots of treats '\n",
       "                                               'and praise. tibetan spaniels '\n",
       "                                               'were originally bred as '\n",
       "                                               'guardians, so they love to '\n",
       "                                               'keep watch and will bark at '\n",
       "                                               'anything out of the '\n",
       "                                               'ordinary—even if it’s just the '\n",
       "                                               'delivery person. begin '\n",
       "                                               'socializing your tibetan '\n",
       "                                               'spaniel puppy as soon as you '\n",
       "                                               'bring them home. puppies that '\n",
       "                                               'are exposed to new people, '\n",
       "                                               'places, animals, and '\n",
       "                                               'experiences will be better '\n",
       "                                               'adjusted and more confident in '\n",
       "                                               'new situations throughout '\n",
       "                                               'their life.'}},\n",
       "                     {'_id': 'rec_4177',\n",
       "                      '_score': 0.4855063259601593,\n",
       "                      'fields': {'chunk_text': 'shichon training all dogs, '\n",
       "                                               'including shichon puppies, '\n",
       "                                               'need to be socialized during '\n",
       "                                               'their first 16 weeks of life. '\n",
       "                                               'socializing a puppy helps '\n",
       "                                               'ensure they will grow to be '\n",
       "                                               'comfortable, confident, and '\n",
       "                                               'well-behaved no matter what '\n",
       "                                               'situation they’re in. ask your '\n",
       "                                               'shichon breeder how they have '\n",
       "                                               'approached socialization, and '\n",
       "                                               'get tips from your vet on how '\n",
       "                                               'to balance socialization and '\n",
       "                                               'safety. shichons are eager to '\n",
       "                                               'learn and please when it comes '\n",
       "                                               'to training. consistent '\n",
       "                                               'positive reinforcement '\n",
       "                                               'training is the best way to '\n",
       "                                               'teach your pup while building '\n",
       "                                               'the human-animal bond.'}},\n",
       "                     {'_id': 'rec_4186',\n",
       "                      '_score': 0.4736717939376831,\n",
       "                      'fields': {'chunk_text': 'shichon faqs do shichon dogs '\n",
       "                                               'bark a lot? all dogs bark, and '\n",
       "                                               'shichons often bark to alert '\n",
       "                                               'their family. they also resort '\n",
       "                                               'to barking out of boredom if '\n",
       "                                               'they aren’t getting enough '\n",
       "                                               'attention and exercise. , are '\n",
       "                                               'shichons good pets? yes, '\n",
       "                                               'shichons are easy to love and '\n",
       "                                               'accommodate, thanks to their '\n",
       "                                               'small size and ability to '\n",
       "                                               'befriend people of all ages. '\n",
       "                                               'they can be a great option for '\n",
       "                                               'first-time dog parents and '\n",
       "                                               'apartment dwellers. are '\n",
       "                                               'shichons hard to potty train? '\n",
       "                                               'every dog is an individual and '\n",
       "                                               'will take to potty training at '\n",
       "                                               'a different rate. but shichons '\n",
       "                                               'are eager to please their '\n",
       "                                               'families, so they may pick up '\n",
       "                                               'potty training quicker than '\n",
       "                                               'other breeds. written by sarah '\n",
       "                                               'mouton dowdy freelance writer '\n",
       "                                               ', '}},\n",
       "                     {'_id': 'rec_3849',\n",
       "                      '_score': 0.4667101800441742,\n",
       "                      'fields': {'chunk_text': 'russell terrier training '\n",
       "                                               'introduce your russell terrier '\n",
       "                                               'puppy to new people, animals, '\n",
       "                                               'and environments at a young '\n",
       "                                               'age. proper socialization is '\n",
       "                                               'key for this breed (and all '\n",
       "                                               'dogs) to be comfortable and '\n",
       "                                               'confident in a variety of '\n",
       "                                               'settings. ideally, this should '\n",
       "                                               'begin within the first 16 '\n",
       "                                               'weeks of your puppy’s life. , '\n",
       "                                               'while consistent training can '\n",
       "                                               'reduce the frequency of '\n",
       "                                               'undesirable behaviors, it’s '\n",
       "                                               'unlikely that a russell will '\n",
       "                                               'never bark or dig. russell '\n",
       "                                               'terriers need early, '\n",
       "                                               'consistent training to help '\n",
       "                                               'curb some of their unwanted '\n",
       "                                               'behaviors like barking and '\n",
       "                                               'digging. and while their '\n",
       "                                               'smarts make them quick '\n",
       "                                               'learners, russells can also '\n",
       "                                               'bore easily. keep training fun '\n",
       "                                               'by using a positive, '\n",
       "                                               'rewards-based approach. this '\n",
       "                                               'has a triple benefit of '\n",
       "                                               'teaching necessary skills, '\n",
       "                                               'building the human-animal '\n",
       "                                               'bond, and providing mental and '\n",
       "                                               'physical exercise.'}},\n",
       "                     {'_id': 'rec_4916',\n",
       "                      '_score': 0.46409955620765686,\n",
       "                      'fields': {'chunk_text': 'yorkiepoo behavior don’t be '\n",
       "                                               'fooled by the yorkiepoo’s '\n",
       "                                               'size: he is a small dog with a '\n",
       "                                               'big personality! while the '\n",
       "                                               'breed is charismatic and '\n",
       "                                               'affectionate, these pups also '\n",
       "                                               'aren’t afraid to voice their '\n",
       "                                               'opinions, especially when they '\n",
       "                                               'want attention. to prevent '\n",
       "                                               'excess barking, nichols '\n",
       "                                               'advises pet parents to keep '\n",
       "                                               'their yorkiepoo mentally '\n",
       "                                               'stimulated and train him from '\n",
       "                                               'an early age, even though the '\n",
       "                                               'breed can be stubborn. “i '\n",
       "                                               'believe every dog can be '\n",
       "                                               'trained to not bark,” she '\n",
       "                                               'says. “a yorkiepoo just might '\n",
       "                                               'be slightly more complicated, '\n",
       "                                               'and you might have to be '\n",
       "                                               'extraordinarily consistent.” '\n",
       "                                               'yorkiepoos are independent but '\n",
       "                                               'also adore spending time with '\n",
       "                                               'their families, so it’s best '\n",
       "                                               'not to leave them home alone '\n",
       "                                               'for too long. doing so can '\n",
       "                                               'cause the pups to develop '\n",
       "                                               'separation anxiety and can '\n",
       "                                               'encourage negative behavior, '\n",
       "                                               'like the constant barking. '\n",
       "                                               ', '}}]},\n",
       " 'usage': {'embed_total_tokens': 17, 'read_units': 6}}"
      ]
     },
     "execution_count": 119,
     "metadata": {},
     "output_type": "execute_result"
    }
   ],
   "source": [
    "results"
   ]
  },
  {
   "cell_type": "code",
   "execution_count": 120,
   "id": "4caa4a75",
   "metadata": {},
   "outputs": [
    {
     "data": {
      "text/plain": [
       "{'_id': 'rec_0',\n",
       " 'chunk_text': 'affenpinscher dog breed health and care petmd.com /dog/breeds/affenpinscher small-dog breed known for having a spirited, terrier-like personality and an almost monkey-like face that gives them the nickname the monkey dog. originating in 17th-century germany, the breed was initially developed to hunt rats in homes, stables, and shops, according to the affenpinscher club of america (aca). but over time, the affenpinscher transitioned from a working dog to a beloved companion. physically, affenpinschers are compact dogs that stand 9–12 inches tall and weigh 7–10 pounds. they have a scruffy coat that can be black, gray, silver, or red. affenpinscher dogs are best known for their expressive face, with a short muzzle and dark, round eyes that give them an appearance not unlike a monkey. the affenpinscher personality is just as quirky as their looks—the dogs are bold, confident, and animated. matthew mullin, director of the affenpinscher club of america, described the breed as \"a big dog in a little package.\"',\n",
       " 'pet': 'Dogs',\n",
       " 'topic': 'Affenpinscher Dog Breed Health and Care',\n",
       " 'blog_name': 'Dogs_Breeds_Affenpinscher',\n",
       " 'word_count': 158,\n",
       " 'chunk_size': 194}"
      ]
     },
     "execution_count": 120,
     "metadata": {},
     "output_type": "execute_result"
    }
   ],
   "source": [
    "data_dict.get('dogs')[0]"
   ]
  },
  {
   "cell_type": "code",
   "execution_count": 122,
   "id": "a0bfd09a",
   "metadata": {},
   "outputs": [
    {
     "name": "stdout",
     "output_type": "stream",
     "text": [
      "{'result': {'hits': [{'_id': 'rec_1418',\n",
      "                      '_score': 0.2878890335559845,\n",
      "                      'fields': {'chunk_text': 'dental care the biggest part '\n",
      "                                               'of their upkeep will be their '\n",
      "                                               'teeth, which need to be '\n",
      "                                               'brushed daily to prevent '\n",
      "                                               'dental disease.',\n",
      "                                 'topic': 'Dental Care',\n",
      "                                 'word_count': 22.0}},\n",
      "                     {'_id': 'rec_659',\n",
      "                      '_score': 0.254560649394989,\n",
      "                      'fields': {'chunk_text': 'dental disease as with all '\n",
      "                                               'small dogs, the bichon frise '\n",
      "                                               'may develop dental disease. '\n",
      "                                               'prevention is the best weapon '\n",
      "                                               'against dental disease—it’s '\n",
      "                                               'recommended that bichons get '\n",
      "                                               'their teeth examined and '\n",
      "                                               'cleaned by a vet once a year '\n",
      "                                               'to prevent infection and tooth '\n",
      "                                               'loss. brushing your dog’s '\n",
      "                                               'teeth at home will help, too.',\n",
      "                                 'topic': 'Dental Disease',\n",
      "                                 'word_count': 52.0}},\n",
      "                     {'_id': 'rec_2828',\n",
      "                      '_score': 0.24172216653823853,\n",
      "                      'fields': {'chunk_text': 'dental disease dental disease '\n",
      "                                               'is one of the most common '\n",
      "                                               'conditions seen in dogs as '\n",
      "                                               'they age, especially in small '\n",
      "                                               'breeds like the lhasa apso. '\n",
      "                                               'bacterial tartar and plaque '\n",
      "                                               'lead to inflammation of the '\n",
      "                                               'tissues around the teeth and '\n",
      "                                               'eventually to tooth and bone '\n",
      "                                               'decay. the best way to prevent '\n",
      "                                               'dental disease is with daily '\n",
      "                                               'tooth brushing with a dog- '\n",
      "                                               'specific toothpaste. some '\n",
      "                                               'diets, treats, and chew toys '\n",
      "                                               'also help to prevent plaque '\n",
      "                                               'and tartar. routine dental '\n",
      "                                               'cleanings are recommended to '\n",
      "                                               'evaluate the mouth, remove '\n",
      "                                               'plaque and tartar, polish '\n",
      "                                               'teeth (to prevent future build '\n",
      "                                               'up), and treat or extract '\n",
      "                                               'teeth that are significantly '\n",
      "                                               'unhealthy. x-rays of the teeth '\n",
      "                                               'and surrounding bone are also '\n",
      "                                               'recommended. as with humans, '\n",
      "                                               'dental disease can be a '\n",
      "                                               'painful condition and may even '\n",
      "                                               'affect the health of the '\n",
      "                                               'internal organs.',\n",
      "                                 'topic': 'Dental Disease',\n",
      "                                 'word_count': 134.0}}]},\n",
      " 'usage': {'embed_total_tokens': 5, 'read_units': 6}}\n"
     ]
    }
   ],
   "source": [
    "filtered_results = index.search(\n",
    "    namespace=\"dogs\", \n",
    "    query={\n",
    "        \"inputs\": {\"text\": \"Disease prevention\"}, \n",
    "        \"top_k\": 3,\n",
    "        \"filter\": {\"pet\": \"Dogs\"},\n",
    "    },\n",
    "    fields=[\"chunk_text\", \"word_count\", \"topic\"]\n",
    ")\n",
    "\n",
    "print(filtered_results)"
   ]
  },
  {
   "cell_type": "code",
   "execution_count": null,
   "id": "2abd98bb",
   "metadata": {},
   "outputs": [],
   "source": []
  }
 ],
 "metadata": {
  "kernelspec": {
   "display_name": "base",
   "language": "python",
   "name": "python3"
  },
  "language_info": {
   "codemirror_mode": {
    "name": "ipython",
    "version": 3
   },
   "file_extension": ".py",
   "mimetype": "text/x-python",
   "name": "python",
   "nbconvert_exporter": "python",
   "pygments_lexer": "ipython3",
   "version": "3.11.5"
  }
 },
 "nbformat": 4,
 "nbformat_minor": 5
}
