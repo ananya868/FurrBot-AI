{
 "cells": [
  {
   "cell_type": "markdown",
   "metadata": {},
   "source": [
    "Data Ingestion"
   ]
  },
  {
   "cell_type": "code",
   "execution_count": 1,
   "metadata": {},
   "outputs": [],
   "source": [
    "from steps.data_ingestion_step import data_ingestion_step "
   ]
  },
  {
   "cell_type": "code",
   "execution_count": 2,
   "metadata": {},
   "outputs": [],
   "source": [
    "data_path, data_type = 'pdf_data', 'pdf'\n",
    "# run this step\n",
    "dt = data_ingestion_step(data_path, data_type)"
   ]
  },
  {
   "cell_type": "code",
   "execution_count": 3,
   "metadata": {},
   "outputs": [
    {
     "data": {
      "text/plain": [
       "dict_keys(['Bees', 'Birds', 'Cats', 'Chicken and Ducks', 'Chinchillas', 'Dogs', 'Ferrets', 'Fish', 'Gerbils', 'Guinea Pigs', 'Hamsters', 'Horses', 'Pigs', 'Prairie Dogs', 'Rabbits', 'Rats', 'Reptiles', 'Sugar Gliders'])"
      ]
     },
     "execution_count": 3,
     "metadata": {},
     "output_type": "execute_result"
    }
   ],
   "source": [
    "dt.keys()"
   ]
  },
  {
   "cell_type": "markdown",
   "metadata": {},
   "source": [
    "Data Extraction"
   ]
  },
  {
   "cell_type": "code",
   "execution_count": 4,
   "metadata": {},
   "outputs": [],
   "source": [
    "from steps.data_extraction_step import data_extraction_step \n",
    "\n",
    "data_dict = data_extraction_step(dt)    "
   ]
  },
  {
   "cell_type": "code",
   "execution_count": 5,
   "metadata": {},
   "outputs": [
    {
     "data": {
      "text/plain": [
       "{'text': ['Abtenauer | PetMD petmd.com /horse/breeds/c_hr_abtenauer The Abtenauer is a horse breed of German extraction. An easy trotter, it is particularly graceful and fluid in its movements. Although of average size, the Abtenauer is actually a draft horse and accustomed to pulling heavy loads on mountainous terrain. Unfortunately, the Abtenauer has become a rare breed.',\n",
       "  'Physical Characteristics Standing at about 14.2 to 15.1 hands high (57-60 inches, 144-155 centimeters), the Abtenauer is rather small and stocky breed with a well-defined head. It has powerful, muscular legs and great balance. It is also agile, strong, and sure-footed. These characteristics make it especially suitable for navigating mountainous, rugged terrain. Curiously, the Abtenauer has curly hair when it is born, but this is shed along with its baby hair in the first year. It is found in various colors, including rich brown and chestnut, but there are also a lot of blue roans and blacks. Spotted Abtenauers, meanwhile, are very rare and are generally considered unattractive in the breed.',\n",
       "  'Personality and Temperament The Abtenauer is docile, hardworking, obedient, and undemanding, all of which make it an ideal small draft horse. Due to its thick coat, low center of gravity, and powerful legs, it is perfect for hauling loads up in the mountains.',\n",
       "  'History and Background The Abtenauer is a German-blooded horse, but it was bred and raised near Salzburg, Austria; more specifically, the Abtenau valley from which it got its name. According to records, around 100 Abtenauer mares were bred in this valley and used for hauling heavy loads up the mountains. The Abtenauer is also said to be related to the Noriker horse breed—another known breed in Austria, the roots of which can be traced back to Greece—although the Abtenauer is lighter in build. The Abtenauer is considered to be the smallest variant of draft horses.',\n",
       "  'Care and Health The Abtenauer, used in rugged terrain and cold weather, is a hardy horse that does not require special care. In fact, Abtenauer mares and foals are always sent to the mountains during the summer to pasture in Austria. The all-white meadows serve as their roaming field 2/2 during this time. Once a week, they are fed salt to provide a small amount of human interaction and prevent them from running completely wild. However, hardy as it is, efforts must be made to save the Abtenauer breed from extinction. Otherwise, this hardy and extremely useful draft horse may become just another page in the history of horses.'],\n",
       " 'topic': ['Abtenauer | PetMD',\n",
       "  'Physical Characteristics',\n",
       "  'Personality and Temperament',\n",
       "  'History and Background',\n",
       "  'Care and Health'],\n",
       " 'blog_name': 'Horses_Breeds_Abtenauer'}"
      ]
     },
     "execution_count": 5,
     "metadata": {},
     "output_type": "execute_result"
    }
   ],
   "source": [
    "data_dict.get('Horses')[0]"
   ]
  },
  {
   "cell_type": "markdown",
   "metadata": {},
   "source": [
    "Data Pre processing "
   ]
  },
  {
   "cell_type": "code",
   "execution_count": 6,
   "metadata": {},
   "outputs": [],
   "source": [
    "from steps.data_preprocessing_step import data_pre_processing_step\n",
    "\n",
    "d1 = {}\n",
    "data_ = data_pre_processing_step(data_dict)"
   ]
  },
  {
   "cell_type": "markdown",
   "metadata": {},
   "source": [
    "Data Chunking "
   ]
  },
  {
   "cell_type": "code",
   "execution_count": 7,
   "metadata": {},
   "outputs": [],
   "source": [
    "from steps.data_chunking_step import data_chunking_step\n",
    "\n",
    "d2 = data_chunking_step(data_dict=data_, chunking_method='para', chunk_length=None)"
   ]
  },
  {
   "cell_type": "markdown",
   "metadata": {},
   "source": [
    "Metadata building"
   ]
  },
  {
   "cell_type": "markdown",
   "metadata": {},
   "source": [
    "---- Run the cells below "
   ]
  },
  {
   "cell_type": "code",
   "execution_count": 8,
   "metadata": {},
   "outputs": [
    {
     "name": "stderr",
     "output_type": "stream",
     "text": [
      "100%|██████████| 8/8 [00:00<00:00, 3703.58it/s]\n"
     ]
    },
    {
     "name": "stdout",
     "output_type": "stream",
     "text": [
      "[info] --Metadata created for: Bees--\n"
     ]
    },
    {
     "name": "stderr",
     "output_type": "stream",
     "text": [
      "100%|██████████| 884/884 [00:00<00:00, 9290.50it/s]\n"
     ]
    },
    {
     "name": "stdout",
     "output_type": "stream",
     "text": [
      "[info] --Metadata created for: Birds--\n"
     ]
    },
    {
     "name": "stderr",
     "output_type": "stream",
     "text": [
      "100%|██████████| 966/966 [00:00<00:00, 12837.27it/s]\n"
     ]
    },
    {
     "name": "stdout",
     "output_type": "stream",
     "text": [
      "[info] --Metadata created for: Cats--\n"
     ]
    },
    {
     "name": "stderr",
     "output_type": "stream",
     "text": [
      "100%|██████████| 107/107 [00:00<00:00, 9820.58it/s]\n"
     ]
    },
    {
     "name": "stdout",
     "output_type": "stream",
     "text": [
      "[info] --Metadata created for: Chicken and Ducks--\n"
     ]
    },
    {
     "name": "stderr",
     "output_type": "stream",
     "text": [
      "100%|██████████| 268/268 [00:00<00:00, 20531.02it/s]\n"
     ]
    },
    {
     "name": "stdout",
     "output_type": "stream",
     "text": [
      "[info] --Metadata created for: Chinchillas--\n"
     ]
    },
    {
     "name": "stderr",
     "output_type": "stream",
     "text": [
      "100%|██████████| 4949/4949 [00:00<00:00, 10837.67it/s]\n"
     ]
    },
    {
     "name": "stdout",
     "output_type": "stream",
     "text": [
      "[info] --Metadata created for: Dogs--\n"
     ]
    },
    {
     "name": "stderr",
     "output_type": "stream",
     "text": [
      "100%|██████████| 495/495 [00:00<00:00, 17284.65it/s]\n"
     ]
    },
    {
     "name": "stdout",
     "output_type": "stream",
     "text": [
      "[info] --Metadata created for: Ferrets--\n"
     ]
    },
    {
     "name": "stderr",
     "output_type": "stream",
     "text": [
      "100%|██████████| 666/666 [00:00<00:00, 10180.68it/s]\n"
     ]
    },
    {
     "name": "stdout",
     "output_type": "stream",
     "text": [
      "[info] --Metadata created for: Fish--\n"
     ]
    },
    {
     "name": "stderr",
     "output_type": "stream",
     "text": [
      "100%|██████████| 137/137 [00:00<00:00, 13110.49it/s]\n"
     ]
    },
    {
     "name": "stdout",
     "output_type": "stream",
     "text": [
      "[info] --Metadata created for: Gerbils--\n"
     ]
    },
    {
     "name": "stderr",
     "output_type": "stream",
     "text": [
      "100%|██████████| 353/353 [00:00<00:00, 14355.98it/s]\n"
     ]
    },
    {
     "name": "stdout",
     "output_type": "stream",
     "text": [
      "[info] --Metadata created for: Guinea Pigs--\n"
     ]
    },
    {
     "name": "stderr",
     "output_type": "stream",
     "text": [
      "100%|██████████| 339/339 [00:00<00:00, 9084.67it/s]\n"
     ]
    },
    {
     "name": "stdout",
     "output_type": "stream",
     "text": [
      "[info] --Metadata created for: Hamsters--\n"
     ]
    },
    {
     "name": "stderr",
     "output_type": "stream",
     "text": [
      "100%|██████████| 714/714 [00:00<00:00, 9982.68it/s]\n"
     ]
    },
    {
     "name": "stdout",
     "output_type": "stream",
     "text": [
      "[info] --Metadata created for: Horses--\n"
     ]
    },
    {
     "name": "stderr",
     "output_type": "stream",
     "text": [
      "100%|██████████| 13/13 [00:00<00:00, 6399.76it/s]\n"
     ]
    },
    {
     "name": "stdout",
     "output_type": "stream",
     "text": [
      "[info] --Metadata created for: Pigs--\n"
     ]
    },
    {
     "name": "stderr",
     "output_type": "stream",
     "text": [
      "100%|██████████| 79/79 [00:00<00:00, 26404.50it/s]\n"
     ]
    },
    {
     "name": "stdout",
     "output_type": "stream",
     "text": [
      "[info] --Metadata created for: Prairie Dogs--\n"
     ]
    },
    {
     "name": "stderr",
     "output_type": "stream",
     "text": [
      "100%|██████████| 842/842 [00:00<00:00, 9748.70it/s]\n"
     ]
    },
    {
     "name": "stdout",
     "output_type": "stream",
     "text": [
      "[info] --Metadata created for: Rabbits--\n"
     ]
    },
    {
     "name": "stderr",
     "output_type": "stream",
     "text": [
      "100%|██████████| 256/256 [00:00<00:00, 15328.00it/s]\n"
     ]
    },
    {
     "name": "stdout",
     "output_type": "stream",
     "text": [
      "[info] --Metadata created for: Rats--\n"
     ]
    },
    {
     "name": "stderr",
     "output_type": "stream",
     "text": [
      "100%|██████████| 119/119 [00:00<00:00, 7566.70it/s]\n"
     ]
    },
    {
     "name": "stdout",
     "output_type": "stream",
     "text": [
      "[info] --Metadata created for: Reptiles--\n"
     ]
    },
    {
     "name": "stderr",
     "output_type": "stream",
     "text": [
      "100%|██████████| 31/31 [00:00<00:00, 8065.47it/s]"
     ]
    },
    {
     "name": "stdout",
     "output_type": "stream",
     "text": [
      "[info] --Metadata created for: Sugar Gliders--\n"
     ]
    },
    {
     "name": "stderr",
     "output_type": "stream",
     "text": [
      "\n"
     ]
    }
   ],
   "source": [
    "from steps.metadata_building_step import metadata_creation_step \n",
    "\n",
    "import os \n",
    "\n",
    "d3 = metadata_creation_step(d2, os.environ.get('GEMINI_API_KEY')) # d3 will have the metadata"
   ]
  },
  {
   "cell_type": "code",
   "execution_count": 9,
   "metadata": {},
   "outputs": [],
   "source": [
    "# d3.get('Cats')[0]"
   ]
  },
  {
   "cell_type": "code",
   "execution_count": 10,
   "metadata": {},
   "outputs": [],
   "source": [
    "from steps.save_data_step import save_data_step \n",
    "\n",
    "save_data_step(d3)"
   ]
  },
  {
   "cell_type": "code",
   "execution_count": null,
   "metadata": {},
   "outputs": [],
   "source": []
  }
 ],
 "metadata": {
  "kernelspec": {
   "display_name": "base",
   "language": "python",
   "name": "python3"
  },
  "language_info": {
   "codemirror_mode": {
    "name": "ipython",
    "version": 3
   },
   "file_extension": ".py",
   "mimetype": "text/x-python",
   "name": "python",
   "nbconvert_exporter": "python",
   "pygments_lexer": "ipython3",
   "version": "3.11.5"
  }
 },
 "nbformat": 4,
 "nbformat_minor": 2
}
