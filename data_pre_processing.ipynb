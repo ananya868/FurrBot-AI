{
 "cells": [
  {
   "cell_type": "code",
   "execution_count": 1,
   "metadata": {},
   "outputs": [],
   "source": [
    "from src.data_pre_processing import (\n",
    "    DataPreProcessingFactory,\n",
    "    RemoveLinks, \n",
    "    RemoveDateTime,\n",
    "    RemoveIrrelevantSentences,\n",
    "    RemovePageNumbers,\n",
    "    LowerCaseAndRemoveExtraSpaces\n",
    ")"
   ]
  },
  {
   "cell_type": "code",
   "execution_count": 2,
   "metadata": {},
   "outputs": [],
   "source": [
    "from src.data_extraction import (\n",
    "    DataExtractionFactory,\n",
    "    PDFTextExtractorForBreeds,\n",
    "    MergeShortElements\n",
    ")"
   ]
  },
  {
   "cell_type": "code",
   "execution_count": 3,
   "metadata": {},
   "outputs": [],
   "source": [
    "from src.data_ingestion import (\n",
    "    DataIngestionFactory, \n",
    "    TextDataIngestion\n",
    ")"
   ]
  },
  {
   "cell_type": "code",
   "execution_count": 4,
   "metadata": {},
   "outputs": [],
   "source": [
    "folder_path = \"data/pdf_data\"\n",
    "ingestor = DataIngestionFactory(strategy=TextDataIngestion(folder_path))\n",
    "file_dict = ingestor.ingest_data()"
   ]
  },
  {
   "cell_type": "code",
   "execution_count": 5,
   "metadata": {},
   "outputs": [],
   "source": [
    "# for i, j in file_dict.items(): \n",
    "#     print(f\"{i}, count: {len(j)}\")"
   ]
  },
  {
   "cell_type": "code",
   "execution_count": 6,
   "metadata": {},
   "outputs": [],
   "source": [
    "# file_dict -> dict that has all categories and list of pdf\n",
    "# dict\n",
    "\n",
    "breed_categories = ['Dogs', 'Cats', 'Horses', 'Reptiles']\n",
    "blogs_categories = ['Bees', 'Birds', 'Fish', 'Ferrets', 'Chicken and Ducks', 'Chinchillas', 'Gerbils', 'Guinea Pigs', 'Hamsters', 'Pigs'\n",
    "                    'Prairie Dogs', 'Rabbits', 'Rats', 'Sugar Gliders']\n",
    "\n",
    "\n",
    "# Separate the dict for specific categories \n",
    "breed_dict = {k: v for k, v in file_dict.items() if k in breed_categories}\n",
    "blogs_dict = {k: v for k, v in file_dict.items() if k in blogs_categories}"
   ]
  },
  {
   "cell_type": "code",
   "execution_count": 7,
   "metadata": {},
   "outputs": [
    {
     "data": {
      "text/plain": [
       "dict_keys(['Bees', 'Birds', 'Chicken and Ducks', 'Chinchillas', 'Ferrets', 'Fish', 'Gerbils', 'Guinea Pigs', 'Hamsters', 'Rabbits', 'Rats', 'Sugar Gliders'])"
      ]
     },
     "execution_count": 7,
     "metadata": {},
     "output_type": "execute_result"
    }
   ],
   "source": [
    "breed_dict.keys()\n",
    "blogs_dict.keys()"
   ]
  },
  {
   "cell_type": "code",
   "execution_count": 8,
   "metadata": {},
   "outputs": [],
   "source": [
    "# blogs \n",
    "sample = [\n",
    "    {\n",
    "        'Dogs': [\n",
    "            {\n",
    "                'unique_id': 12,\n",
    "                'text': \"para-para para para ....\",\n",
    "                'pet_type': 'dogs',\n",
    "                'blog_name': 'Labrador',\n",
    "                'topic': 'Labrador training',\n",
    "                'keywords': [\"training\", \"breeding\", \"food\"],\n",
    "                'token_count': 200,\n",
    "                'chunk_size': 300,\n",
    "                'age_group': 'adult'\n",
    "            },\n",
    "            {\n",
    "                # ...\n",
    "            }\n",
    "        ],\n",
    "        'Cats': [\n",
    "                # ... \n",
    "        ] \n",
    "    }\n",
    "]\n",
    "\n",
    "\n",
    "sample_v1 = [\n",
    "    {\n",
    "        'birds': [\n",
    "            { \n",
    "                'unique_id': 1,\n",
    "                'text': \"para-para para para ....\",\n",
    "                'pet_type': 'birds',\n",
    "                'blog_name': 'Diet for birds',\n",
    "                'topic': 'is wheat good for birds?',\n",
    "                'keywords': [\"diet\", \"breeding\", \"food\"],\n",
    "                'token_count': 200, \n",
    "                'chunk_size': 300, \n",
    "                'age_group': 'adult'\n",
    "            }, \n",
    "            {\n",
    "                'unique_id': 2,\n",
    "                # .... \n",
    "            }\n",
    "        ],\n",
    "        'Rats': [\n",
    "            # ....\n",
    "        ]\n",
    "    }\n",
    "]\n",
    "\n",
    "import os\n",
    "\n",
    "\n",
    "blogs_data = {}\n",
    "for pet_type, blogs_list in breed_dict.items():\n",
    "    blogs_data[pet_type] = []\n",
    "    for pdf in blogs_list:\n",
    "        pdf_path = os.path.join(folder_path, pet_type, pdf)\n",
    "        extractor = DataExtractionFactory(strategy=PDFTextExtractorForBreeds(pdf_path))\n",
    "        text, subheadings = extractor.extract()\n",
    "        blogs_data[pet_type].append({\n",
    "            'text': text, # list\n",
    "            'subheadings': subheadings, # list\n",
    "            'topic': pdf.split('.pdf')[0]\n",
    "        })"
   ]
  },
  {
   "cell_type": "code",
   "execution_count": 17,
   "metadata": {},
   "outputs": [
    {
     "name": "stdout",
     "output_type": "stream",
     "text": [
      "28\n"
     ]
    }
   ],
   "source": [
    "text_list = blogs_data.get('Dogs')[100]['text']\n",
    "print(len(text_list))"
   ]
  },
  {
   "cell_type": "code",
   "execution_count": 18,
   "metadata": {},
   "outputs": [
    {
     "name": "stdout",
     "output_type": "stream",
     "text": [
      "28\n"
     ]
    }
   ],
   "source": [
    "subheadings = blogs_data.get('Dogs')[100]['subheadings']\n",
    "print(len(subheadings))  "
   ]
  },
  {
   "cell_type": "code",
   "execution_count": 21,
   "metadata": {},
   "outputs": [],
   "source": [
    "extractor.set_strategy(MergeShortElements(text_list, subheadings))\n",
    "new_list, sh = extractor.extract()"
   ]
  },
  {
   "cell_type": "markdown",
   "metadata": {},
   "source": [
    "Pre processing "
   ]
  },
  {
   "cell_type": "code",
   "execution_count": 6,
   "metadata": {},
   "outputs": [],
   "source": [
    "links = ['https://www.printfriendly.com', 'http://www.printfriendly.com',\n",
    "            'https://petmd.com', 'http://www.petmd.com']\n",
    "\n",
    "processor = DataPreProcessingFactory(strategy=RemoveLinks(links, text_list))\n",
    "text_list = processor.process_data()"
   ]
  },
  {
   "cell_type": "code",
   "execution_count": 7,
   "metadata": {},
   "outputs": [],
   "source": [
    "# remove date time \n",
    "processor.set_strategy(strategy=RemoveDateTime(text_list))\n",
    "text_list = processor.process_data()"
   ]
  },
  {
   "cell_type": "code",
   "execution_count": null,
   "metadata": {},
   "outputs": [],
   "source": [
    "# Remove irrelevant Sentences \n",
    "sent = ['Hypothyroidism Hypothyroidism'] # just for testing \n",
    "processor.set_strategy(RemoveIrrelevantSentences(text_list, sent))\n",
    "text_list = processor.process_data()"
   ]
  },
  {
   "cell_type": "code",
   "execution_count": 11,
   "metadata": {},
   "outputs": [],
   "source": [
    "# Remove Page Numbers\n",
    "processor.set_strategy(RemovePageNumbers(text_list))\n",
    "text_list = processor.process_data()"
   ]
  },
  {
   "cell_type": "code",
   "execution_count": 13,
   "metadata": {},
   "outputs": [],
   "source": [
    "# Lower Case and Remove Extra Spaces\n",
    "processor.set_strategy(LowerCaseAndRemoveExtraSpaces(text_list))\n",
    "text_list = processor.process_data()"
   ]
  },
  {
   "cell_type": "code",
   "execution_count": 16,
   "metadata": {},
   "outputs": [
    {
     "data": {
      "text/plain": [
       "['briard dog breed health and care petmd.com /dog/breeds/briard the briard is an ancient french herding dog with a rugged appearance and star- studded history. also called chien berger de brie (named after the region of france responsible for producing brie cheese), the briard dog breed dates back to at least the 8th century, as they can be seen depicted in tapestries alongside emperor charlemagne. roughly 1,000 years later, another emperor—napoleon bonaparte—reportedly kept briards, and thomas jefferson received a briard as a gift for serving as an u.s. ambassador to france. briard dogs were bred to both guard and herd sheep, and they’re exceptionally equipped for the role. recognized by the american kennel club in 1928, the official breed standard describes the briard’s movements as being like “quicksilver, permitting him to make [the] abrupt turns, springing starts, and sudden stops required of the sheepherding dog.” this description is even more impressive when you consider the breed’s large size (22–27 inches at the shoulder and 55–100 pounds). the standard also notes that the french briard is “a dog of heart, with spirit and initiative, wise and fearless with no trace of timidity.”',\n",
       " 'caring for a briard despite being bred for outdoor work and life, the briard club of america (bca) notes that briards are house pets that are happiest by their human’s side. but that doesn’t mean you should disregard their working ways; understanding their instincts is key to providing briards with the best care. case in point: briards need a job (i.e., something physical to which they can devote their energy and strength). luckily, their interests aren’t limited to sheepherding, and they make excellent hiking, biking, and running companions. and while french briards are intelligent and eager to please, they have a unique confidence and independence that comes from being bred to make decisions in their human’s absence. the briard’s sheepherding background is also responsible for their strong desire to herd young children in their family, as well as their wariness of new pets and people. that being said, mary jeanne millner, bca member and owner of sendero briards, believes the perfect briard home is a house full of busy children who interact well with their furry companion. growing up in the midst of a young family’s chaotic comings and goings is an ideal setup for socializing a briard pup, she says. , briards can do well with other dogs, but millner recommends they be of the opposite sex to decrease the likelihood of conflict. “and if you want cats,” she says, “it’s best to adopt the cat first so they can teach the young briard who’s boss.”',\n",
       " 'briard health issues briard dogs are a relatively healthy breed with a lifespan of approximately 12 years. however, like all breeds, they are prone to certain health conditions.',\n",
       " 'hip dysplasia hip dysplasia is a condition in which the hip joint doesn’t develop properly. it’s characterized by a looseness that leads to osteoarthritis in dogs. mild cases are treated with interventions like physical therapy and anti-inflammatory drugs, but severe cases may require surgery. common signs of hip dysplasia include: limping reluctance to get up or jump shifting of weight to front legs loss of muscle mass in back legs hip pain',\n",
       " 'eye conditions the briard dog breed is predisposed to several eye conditions: dogs with congenital stationary night blindness have had difficulty seeing in low or dim light from birth. the condition doesn’t get better or worse with time, though dogs with the condition can live happy, healthy lives with a little extra help from their pet parents. hereditary cataracts cause the eye’s lens to become cloudy. this stops light from reaching the retina, resulting in vision loss. if you notice cloudiness or signs of vision loss (such as clumsiness) in your dog, notify your veterinarian. cataracts are progressive, and surgery is the only treatment. corneal dystrophy is characterized by a white, opaque area that develops in the center of the cornea (the surface of the eye). if the lesion grows, it can affect vision. corneal dystrophy doesn’t usually cause pain or require treatment unless it becomes advanced, resulting in an ulceration. in these cases, pet parents are advised to contact a veterinary eye specialist. , ',\n",
       " ' is when a dog’s thyroid gland isn’t producing enough thyroid hormones, which serve an important function in metabolism. this hormone deficiency affects the functioning of most organ systems of the body, and treatment requires lifelong hormone replacement therapy with oral medication. hypothyroidism tends to affect medium- to large-sized dogs like the briard, and it’s most common in dogs 4–10 years old. most signs of hypothyroidism are related to a dog’s decreased metabolism and include: unexplained weight gain lethargy inability to stay warm mental dullness skin infections and ear infections',\n",
       " 'what to feed a briard no two briards are exactly alike, so it’s important to partner with your veterinarian to choose the best food for your dog. your vet can help you identify a food that meets association of american feed control officials (aafco) standards and is nutritionally complete for your pet’s age, size, and health history.',\n",
       " 'how to feed a briard most adult briard dogs should eat two meals a day: once in the morning and again in the evening. but because briard puppies have higher metabolisms than adult dogs, it’s generally best to add a midday feeding for a total of three meals. your vet can help you determine the best feeding schedule for your dog’s age.',\n",
       " \"how much should you feed a briard? the nutrition label on your dog’s food bag includes a feeding guide that will give you a general idea of how much to feed your briard based on their weight. but for a more precise answer, ask your veterinarian. they will tailor their recommendation to your dog’s age, weight, body condition score, lifestyle, and health needs. be sure to include treats in your daily calorie count for a more accurate view of what your pet is eating. treats should never make up more than 10% of your dog's daily calorie requirements. , \",\n",
       " 'nutritional tips for briards if your briard is eating a complete and balanced dog food that’s aafco-compliant, they shouldn’t need supplementation. however, nutritional supplements are sometimes used to treat or prevent certain health conditions. talk to your veterinary team before adding anything new to your dog’s diet—including supplements.',\n",
       " 'behavior and training tips for briards briard personality and temperament millner describes life with briards as similar to living alongside a teenager. “they still need guidance, but they don’t want it,” she says. “and they do love you—most of the time.” in other words, briards are a fascinating mix of intelligence, independence, loyalty, and love. their independent thinking came in handy while on the job as sheepherders and guardians, but in a family setting, you’ll need to provide consistent direction. the briard’s sheepherding background is responsible for their strong desire to herd young children in their family, as well as their wariness of new pets and people. the briard’s working-dog instincts affect other aspects of their personality as well. they can be unsure when meeting new people and animals, and they may also attempt to herd children. and while they can live with other pets (including cats), introductions need to be done slowly and correctly, no matter if your briard is meeting a cat or another dog. your briard may not be working dog, but he will still need a “job” in the form of daily mental and physical exercise, and close companionship. however, millner notes that briards also love hanging out on the sofa with their people.',\n",
       " 'briard behavior as a result of their history, briards can be on high alert and can be aloof around strangers. but early socialization, consistent mental stimulation, and lifelong training can help ease their working instincts. briards need daily exercise and time with their people. bored, lonely briards with energy to burn are more likely to engage in unwanted behaviors like excessive barking and chewing. , ',\n",
       " 'briard training it’s important to safely expose your briard puppy to various animals, people, environments, activities, and objects during their first 16 weeks of life. this is a crucial learning period for every puppy, and socializing your pup can help them feel comfortable in a wide variety of settings they’ll encounter throughout their life. talk to your briard dog breeder about how they approach socialization, and ask your veterinarian to suggest activities that are safe for your pet’s age. briards are famously intelligent and trainable, with a strong desire to please those they love. however, they can be willful thanks to their history as independent workers. consistent, positive training that uses rewards instead of punishment is the best approach. the training process is also a great way to provide briards with mental and physical exercise while building the human-animal bond. if you use treats as a reward during training, be sure to factor them into your dog’s daily calorie count. play, dog toys, and other things your pup enjoys can also be used as rewards.',\n",
       " 'fun activities for briards jogging hiking herding agility rally tracking obedience training skills training briard grooming guide the briard’s long, coarse, wavy double coat comes in shades of black, tawny, and gray. designed for the outdoors, it sheds very little, and tends to repel dirt and water. however, its upkeep will require some effort on your part. according to the bca, pet parents should expect to spend at least two hours every week grooming their briard. , ',\n",
       " 'skin care good coat care is the key to good skin care. regular grooming can help remove twigs, burrs, and other debris that can get caught in the briard’s coat and irritate their skin. bathing frequency will depend in part on your briard’s lifestyle. keep in mind that too many baths can strip the skin of healthy oils. be attentive to changes in your dog’s skin. recurring skin infections can be a sign of hypothyroidism, to which briards are prone. talk to your veterinarian if you notice anything out of the ordinary.',\n",
       " 'coat care the briard’s beautiful coat needs to be brushed multiple times a week to stay healthy and free from matting.',\n",
       " 'eye care briards are prone to eye issues. watch for signs of redness, discharge, cloudiness, or apparent changes in vision. call your vet if you have any concerns about your briard’s eyes.',\n",
       " 'ear care the briard dog’s floppy, hairy ears are predisposed to infection. talk to your veterinary team about how and how often you should clean your dog’s ears, and which ear cleaning products to use. call your vet if you notice signs of an ear infection, such as redness, odor, pain, itchiness, and head shaking.',\n",
       " 'considerations for pet parents here are some questions to consider before adding a briard to your family: 1. do i have time and energy to exercise a large dog every day? 2. can i spend at least two hours a week on grooming? 3. do i have the skills and patience to provide extensive socialization and lifelong training using positive reinforcement? 4. am i home enough to give a dog daily close companionship? 5. am i financially prepared to provide veterinary care? , 6. can i provide a dog with a loving home for their lifetime, which could be 12 years or more? if you can answer these questions with an enthusiastic “yes!” you may be ready to parent a briard.',\n",
       " 'briard faqs how much does a briard cost? the cost of a briard puppy varies by breeder, but you can expect to pay at least $1,000. are briards good pets? briards can make good pets for the right family. they are intelligent, brave, faithful dogs. but they need families who can provide them with extensive and early socialization, lifelong positive training, daily exercise, and close companionship. do briards have hair or fur? briards are covered in long, coarse hair that has a gentle wave. they don’t shed very much, but they do need to be brushed multiple times a week to keep their coat shiny and healthy. written by sarah mouton dowdy freelance writer , ']"
      ]
     },
     "execution_count": 16,
     "metadata": {},
     "output_type": "execute_result"
    }
   ],
   "source": [
    "text_list"
   ]
  },
  {
   "cell_type": "code",
   "execution_count": null,
   "metadata": {},
   "outputs": [],
   "source": []
  }
 ],
 "metadata": {
  "kernelspec": {
   "display_name": "base",
   "language": "python",
   "name": "python3"
  },
  "language_info": {
   "codemirror_mode": {
    "name": "ipython",
    "version": 3
   },
   "file_extension": ".py",
   "mimetype": "text/x-python",
   "name": "python",
   "nbconvert_exporter": "python",
   "pygments_lexer": "ipython3",
   "version": "3.11.5"
  }
 },
 "nbformat": 4,
 "nbformat_minor": 2
}
