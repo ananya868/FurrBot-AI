{
 "cells": [
  {
   "cell_type": "code",
   "execution_count": 9,
   "metadata": {},
   "outputs": [],
   "source": [
    "# from qdrant_client import QdrantClient \n",
    "from qdrant_client import models, QdrantClient\n",
    "from sentence_transformers import SentenceTransformer"
   ]
  },
  {
   "cell_type": "code",
   "execution_count": 10,
   "metadata": {},
   "outputs": [
    {
     "data": {
      "application/vnd.jupyter.widget-view+json": {
       "model_id": "5ffdc6113bad45958d9fa302d7d7f276",
       "version_major": 2,
       "version_minor": 0
      },
      "text/plain": [
       "modules.json:   0%|          | 0.00/349 [00:00<?, ?B/s]"
      ]
     },
     "metadata": {},
     "output_type": "display_data"
    },
    {
     "data": {
      "application/vnd.jupyter.widget-view+json": {
       "model_id": "ee7edb0efedd46f881f536bb4ce0d8a1",
       "version_major": 2,
       "version_minor": 0
      },
      "text/plain": [
       "config_sentence_transformers.json:   0%|          | 0.00/116 [00:00<?, ?B/s]"
      ]
     },
     "metadata": {},
     "output_type": "display_data"
    },
    {
     "data": {
      "application/vnd.jupyter.widget-view+json": {
       "model_id": "ba705ac62c524d57a02e69ac7f31ab9f",
       "version_major": 2,
       "version_minor": 0
      },
      "text/plain": [
       "README.md:   0%|          | 0.00/10.7k [00:00<?, ?B/s]"
      ]
     },
     "metadata": {},
     "output_type": "display_data"
    },
    {
     "data": {
      "application/vnd.jupyter.widget-view+json": {
       "model_id": "54f02de3080b4ef29fc9b60d4b7f8871",
       "version_major": 2,
       "version_minor": 0
      },
      "text/plain": [
       "sentence_bert_config.json:   0%|          | 0.00/53.0 [00:00<?, ?B/s]"
      ]
     },
     "metadata": {},
     "output_type": "display_data"
    },
    {
     "data": {
      "application/vnd.jupyter.widget-view+json": {
       "model_id": "b4794af3fb0c4eba832e038d03fc93fe",
       "version_major": 2,
       "version_minor": 0
      },
      "text/plain": [
       "config.json:   0%|          | 0.00/612 [00:00<?, ?B/s]"
      ]
     },
     "metadata": {},
     "output_type": "display_data"
    },
    {
     "data": {
      "application/vnd.jupyter.widget-view+json": {
       "model_id": "611baa1464e34359866b1bc4fca65745",
       "version_major": 2,
       "version_minor": 0
      },
      "text/plain": [
       "model.safetensors:   0%|          | 0.00/90.9M [00:00<?, ?B/s]"
      ]
     },
     "metadata": {},
     "output_type": "display_data"
    },
    {
     "data": {
      "application/vnd.jupyter.widget-view+json": {
       "model_id": "e24f9ce4e7ba490db19c70148e33ce60",
       "version_major": 2,
       "version_minor": 0
      },
      "text/plain": [
       "tokenizer_config.json:   0%|          | 0.00/350 [00:00<?, ?B/s]"
      ]
     },
     "metadata": {},
     "output_type": "display_data"
    },
    {
     "data": {
      "application/vnd.jupyter.widget-view+json": {
       "model_id": "e00816cd606b4f09bfd4ff9116e2f99e",
       "version_major": 2,
       "version_minor": 0
      },
      "text/plain": [
       "vocab.txt:   0%|          | 0.00/232k [00:00<?, ?B/s]"
      ]
     },
     "metadata": {},
     "output_type": "display_data"
    },
    {
     "data": {
      "application/vnd.jupyter.widget-view+json": {
       "model_id": "c8faba8b71654c96966b99e57a4717c6",
       "version_major": 2,
       "version_minor": 0
      },
      "text/plain": [
       "tokenizer.json:   0%|          | 0.00/466k [00:00<?, ?B/s]"
      ]
     },
     "metadata": {},
     "output_type": "display_data"
    },
    {
     "data": {
      "application/vnd.jupyter.widget-view+json": {
       "model_id": "ce6e2116993f415885beed8a3b5cc274",
       "version_major": 2,
       "version_minor": 0
      },
      "text/plain": [
       "special_tokens_map.json:   0%|          | 0.00/112 [00:00<?, ?B/s]"
      ]
     },
     "metadata": {},
     "output_type": "display_data"
    },
    {
     "name": "stderr",
     "output_type": "stream",
     "text": [
      "c:\\Users\\91790\\anaconda3\\Lib\\site-packages\\transformers\\tokenization_utils_base.py:1601: FutureWarning: `clean_up_tokenization_spaces` was not set. It will be set to `True` by default. This behavior will be depracted in transformers v4.45, and will be then set to `False` by default. For more details check this issue: https://github.com/huggingface/transformers/issues/31884\n",
      "  warnings.warn(\n"
     ]
    },
    {
     "data": {
      "application/vnd.jupyter.widget-view+json": {
       "model_id": "5cf5dd837a134a5cad24c36bda84dde3",
       "version_major": 2,
       "version_minor": 0
      },
      "text/plain": [
       "1_Pooling/config.json:   0%|          | 0.00/190 [00:00<?, ?B/s]"
      ]
     },
     "metadata": {},
     "output_type": "display_data"
    }
   ],
   "source": [
    "encoder = SentenceTransformer(\"all-MiniLM-L6-v2\")"
   ]
  },
  {
   "cell_type": "code",
   "execution_count": 11,
   "metadata": {},
   "outputs": [],
   "source": [
    "documents = [\n",
    "    {\n",
    "        \"name\": \"The Time Machine\",\n",
    "        \"description\": \"A man travels through time and witnesses the evolution of humanity.\",\n",
    "        \"author\": \"H.G. Wells\",\n",
    "        \"year\": 1895,\n",
    "    },\n",
    "    {\n",
    "        \"name\": \"Ender's Game\",\n",
    "        \"description\": \"A young boy is trained to become a military leader in a war against an alien race.\",\n",
    "        \"author\": \"Orson Scott Card\",\n",
    "        \"year\": 1985,\n",
    "    },\n",
    "    {\n",
    "        \"name\": \"Brave New World\",\n",
    "        \"description\": \"A dystopian society where people are genetically engineered and conditioned to conform to a strict social hierarchy.\",\n",
    "        \"author\": \"Aldous Huxley\",\n",
    "        \"year\": 1932,\n",
    "    },\n",
    "    {\n",
    "        \"name\": \"The Hitchhiker's Guide to the Galaxy\",\n",
    "        \"description\": \"A comedic science fiction series following the misadventures of an unwitting human and his alien friend.\",\n",
    "        \"author\": \"Douglas Adams\",\n",
    "        \"year\": 1979,\n",
    "    },\n",
    "    {\n",
    "        \"name\": \"Dune\",\n",
    "        \"description\": \"A desert planet is the site of political intrigue and power struggles.\",\n",
    "        \"author\": \"Frank Herbert\",\n",
    "        \"year\": 1965,\n",
    "    },\n",
    "    {\n",
    "        \"name\": \"Foundation\",\n",
    "        \"description\": \"A mathematician develops a science to predict the future of humanity and works to save civilization from collapse.\",\n",
    "        \"author\": \"Isaac Asimov\",\n",
    "        \"year\": 1951,\n",
    "    },\n",
    "    {\n",
    "        \"name\": \"Snow Crash\",\n",
    "        \"description\": \"A futuristic world where the internet has evolved into a virtual reality metaverse.\",\n",
    "        \"author\": \"Neal Stephenson\",\n",
    "        \"year\": 1992,\n",
    "    },\n",
    "    {\n",
    "        \"name\": \"Neuromancer\",\n",
    "        \"description\": \"A hacker is hired to pull off a near-impossible hack and gets pulled into a web of intrigue.\",\n",
    "        \"author\": \"William Gibson\",\n",
    "        \"year\": 1984,\n",
    "    },\n",
    "    {\n",
    "        \"name\": \"The War of the Worlds\",\n",
    "        \"description\": \"A Martian invasion of Earth throws humanity into chaos.\",\n",
    "        \"author\": \"H.G. Wells\",\n",
    "        \"year\": 1898,\n",
    "    },\n",
    "    {\n",
    "        \"name\": \"The Hunger Games\",\n",
    "        \"description\": \"A dystopian society where teenagers are forced to fight to the death in a televised spectacle.\",\n",
    "        \"author\": \"Suzanne Collins\",\n",
    "        \"year\": 2008,\n",
    "    },\n",
    "    {\n",
    "        \"name\": \"The Andromeda Strain\",\n",
    "        \"description\": \"A deadly virus from outer space threatens to wipe out humanity.\",\n",
    "        \"author\": \"Michael Crichton\",\n",
    "        \"year\": 1969,\n",
    "    },\n",
    "    {\n",
    "        \"name\": \"The Left Hand of Darkness\",\n",
    "        \"description\": \"A human ambassador is sent to a planet where the inhabitants are genderless and can change gender at will.\",\n",
    "        \"author\": \"Ursula K. Le Guin\",\n",
    "        \"year\": 1969,\n",
    "    },\n",
    "    {\n",
    "        \"name\": \"The Three-Body Problem\",\n",
    "        \"description\": \"Humans encounter an alien civilization that lives in a dying system.\",\n",
    "        \"author\": \"Liu Cixin\",\n",
    "        \"year\": 2008,\n",
    "    },\n",
    "]"
   ]
  },
  {
   "cell_type": "code",
   "execution_count": 12,
   "metadata": {},
   "outputs": [],
   "source": [
    "client = QdrantClient(\":memory:\")"
   ]
  },
  {
   "cell_type": "code",
   "execution_count": 16,
   "metadata": {},
   "outputs": [
    {
     "data": {
      "text/plain": [
       "True"
      ]
     },
     "execution_count": 16,
     "metadata": {},
     "output_type": "execute_result"
    }
   ],
   "source": [
    "client.create_collection(\n",
    "    collection_name=\"my_crooks\",\n",
    "    vectors_config=models.VectorParams(\n",
    "        size=encoder.get_sentence_embedding_dimension(),  # Vector size is defined by used model\n",
    "        distance=models.Distance.COSINE, on_disk=True\n",
    "    )\n",
    ")"
   ]
  },
  {
   "cell_type": "code",
   "execution_count": 17,
   "metadata": {},
   "outputs": [
    {
     "name": "stderr",
     "output_type": "stream",
     "text": [
      "c:\\Users\\91790\\anaconda3\\Lib\\site-packages\\transformers\\models\\bert\\modeling_bert.py:439: UserWarning: 1Torch was not compiled with flash attention. (Triggered internally at ..\\aten\\src\\ATen\\native\\transformers\\cuda\\sdp_utils.cpp:263.)\n",
      "  attn_output = torch.nn.functional.scaled_dot_product_attention(\n"
     ]
    }
   ],
   "source": [
    "client.upload_points(\n",
    "    collection_name=\"my_crooks\",\n",
    "    points=[\n",
    "        models.PointStruct(\n",
    "            id=idx, vector=encoder.encode(doc[\"description\"]).tolist(), payload=doc\n",
    "        )\n",
    "        for idx, doc in enumerate(documents)\n",
    "    ],\n",
    ")"
   ]
  },
  {
   "cell_type": "code",
   "execution_count": 18,
   "metadata": {},
   "outputs": [
    {
     "name": "stdout",
     "output_type": "stream",
     "text": [
      "{'name': 'The War of the Worlds', 'description': 'A Martian invasion of Earth throws humanity into chaos.', 'author': 'H.G. Wells', 'year': 1898} score: 0.5700933107127406\n",
      "{'name': \"The Hitchhiker's Guide to the Galaxy\", 'description': 'A comedic science fiction series following the misadventures of an unwitting human and his alien friend.', 'author': 'Douglas Adams', 'year': 1979} score: 0.5040467325858831\n",
      "{'name': 'The Three-Body Problem', 'description': 'Humans encounter an alien civilization that lives in a dying system.', 'author': 'Liu Cixin', 'year': 2008} score: 0.4590293458539869\n"
     ]
    }
   ],
   "source": [
    "hits = client.query_points(\n",
    "    collection_name=\"my_crooks\",\n",
    "    query=encoder.encode(\"alien invasion\").tolist(),\n",
    "    limit=3,\n",
    ").points\n",
    "\n",
    "for hit in hits:\n",
    "    print(hit.payload, \"score:\", hit.score)"
   ]
  },
  {
   "cell_type": "code",
   "execution_count": 20,
   "metadata": {},
   "outputs": [
    {
     "name": "stdout",
     "output_type": "stream",
     "text": [
      "{'name': 'The Three-Body Problem', 'description': 'Humans encounter an alien civilization that lives in a dying system.', 'author': 'Liu Cixin', 'year': 2008} score: 0.4590293458539869\n"
     ]
    }
   ],
   "source": [
    "hits = client.query_points(\n",
    "    collection_name=\"my_crooks\",\n",
    "    query=encoder.encode(\"alien invasion\").tolist(),\n",
    "    query_filter=models.Filter(\n",
    "        must=[models.FieldCondition(key=\"year\", range=models.Range(gte=2000))]\n",
    "    ),\n",
    "    limit=1,\n",
    ").points\n",
    "\n",
    "for hit in hits:\n",
    "    print(hit.payload, \"score:\", hit.score)"
   ]
  },
  {
   "cell_type": "code",
   "execution_count": 29,
   "metadata": {},
   "outputs": [],
   "source": [
    "import os\n",
    "\n",
    "cluster_uri = \"https://904197e5-0ed4-48c7-9642-0611912311c7.us-east4-0.gcp.cloud.qdrant.io:6333\"\n",
    "new_client = QdrantClient(cluster_uri, api_key=os.environ.get('QDRANT_API_KEY'))"
   ]
  },
  {
   "cell_type": "code",
   "execution_count": 30,
   "metadata": {},
   "outputs": [
    {
     "data": {
      "text/plain": [
       "True"
      ]
     },
     "execution_count": 30,
     "metadata": {},
     "output_type": "execute_result"
    }
   ],
   "source": [
    "new_client.create_collection(\n",
    "    collection_name=\"first_collection\", \n",
    "    vectors_config=models.VectorParams(\n",
    "        size=encoder.get_sentence_embedding_dimension(),  # Vector size is defined by used model\n",
    "        distance=models.Distance.COSINE, \n",
    "    ),\n",
    ")"
   ]
  },
  {
   "cell_type": "code",
   "execution_count": 31,
   "metadata": {},
   "outputs": [],
   "source": [
    "new_client.upload_points(\n",
    "    collection_name=\"first_collection\",\n",
    "    points=[\n",
    "        models.PointStruct(\n",
    "            id=idx, vector=encoder.encode(doc[\"description\"]).tolist(), payload=doc\n",
    "        )\n",
    "        for idx, doc in enumerate(documents)\n",
    "    ],\n",
    ")"
   ]
  },
  {
   "cell_type": "code",
   "execution_count": 32,
   "metadata": {},
   "outputs": [
    {
     "name": "stdout",
     "output_type": "stream",
     "text": [
      "{'name': 'The War of the Worlds', 'description': 'A Martian invasion of Earth throws humanity into chaos.', 'author': 'H.G. Wells', 'year': 1898} score: 0.5700933\n",
      "{'name': \"The Hitchhiker's Guide to the Galaxy\", 'description': 'A comedic science fiction series following the misadventures of an unwitting human and his alien friend.', 'author': 'Douglas Adams', 'year': 1979} score: 0.50404674\n",
      "{'name': 'The Three-Body Problem', 'description': 'Humans encounter an alien civilization that lives in a dying system.', 'author': 'Liu Cixin', 'year': 2008} score: 0.45902938\n"
     ]
    }
   ],
   "source": [
    "hits = new_client.query_points(\n",
    "    collection_name=\"first_collection\",\n",
    "    query=encoder.encode(\"alien invasion\").tolist(),\n",
    "    limit=3,\n",
    ").points\n",
    "\n",
    "for hit in hits:\n",
    "    print(hit.payload, \"score:\", hit.score)"
   ]
  },
  {
   "cell_type": "code",
   "execution_count": 33,
   "metadata": {},
   "outputs": [
    {
     "name": "stdout",
     "output_type": "stream",
     "text": [
      "{'name': 'The Three-Body Problem', 'description': 'Humans encounter an alien civilization that lives in a dying system.', 'author': 'Liu Cixin', 'year': 2008} score: 0.45902938\n"
     ]
    }
   ],
   "source": [
    "hits = new_client.query_points(\n",
    "    collection_name=\"first_collection\",\n",
    "    query=encoder.encode(\"alien invasion\").tolist(),\n",
    "    query_filter=models.Filter(\n",
    "        must=[models.FieldCondition(key=\"year\", range=models.Range(gte=2000))]\n",
    "    ),\n",
    "    limit=1,\n",
    ").points\n",
    "\n",
    "for hit in hits:\n",
    "    print(hit.payload, \"score:\", hit.score)"
   ]
  },
  {
   "cell_type": "code",
   "execution_count": null,
   "metadata": {},
   "outputs": [],
   "source": []
  }
 ],
 "metadata": {
  "kernelspec": {
   "display_name": "base",
   "language": "python",
   "name": "python3"
  },
  "language_info": {
   "codemirror_mode": {
    "name": "ipython",
    "version": 3
   },
   "file_extension": ".py",
   "mimetype": "text/x-python",
   "name": "python",
   "nbconvert_exporter": "python",
   "pygments_lexer": "ipython3",
   "version": "3.11.5"
  }
 },
 "nbformat": 4,
 "nbformat_minor": 2
}
