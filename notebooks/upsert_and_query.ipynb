{
 "cells": [
  {
   "cell_type": "code",
   "execution_count": 1,
   "metadata": {},
   "outputs": [
    {
     "ename": "ModuleNotFoundError",
     "evalue": "No module named 'sentence_transformers'",
     "output_type": "error",
     "traceback": [
      "\u001b[1;31m---------------------------------------------------------------------------\u001b[0m",
      "\u001b[1;31mModuleNotFoundError\u001b[0m                       Traceback (most recent call last)",
      "Cell \u001b[1;32mIn[1], line 1\u001b[0m\n\u001b[1;32m----> 1\u001b[0m \u001b[38;5;28;01mfrom\u001b[39;00m\u001b[38;5;250m \u001b[39m\u001b[38;5;21;01mRAG\u001b[39;00m\u001b[38;5;21;01m.\u001b[39;00m\u001b[38;5;21;01mqdrant_database\u001b[39;00m\u001b[38;5;250m \u001b[39m\u001b[38;5;28;01mimport\u001b[39;00m QdrantDatabase\n",
      "File \u001b[1;32mc:\\Users\\91790\\Desktop\\Projects\\FurrBot-pet-care-chatbot\\RAG\\qdrant_database.py:3\u001b[0m\n\u001b[0;32m      1\u001b[0m \u001b[38;5;66;03m# Script for all operations on Qdrant database (query, upserting, etc)\u001b[39;00m\n\u001b[0;32m      2\u001b[0m \u001b[38;5;28;01mfrom\u001b[39;00m\u001b[38;5;250m \u001b[39m\u001b[38;5;21;01mqdrant_client\u001b[39;00m\u001b[38;5;250m \u001b[39m\u001b[38;5;28;01mimport\u001b[39;00m models, QdrantClient \n\u001b[1;32m----> 3\u001b[0m \u001b[38;5;28;01mfrom\u001b[39;00m\u001b[38;5;250m \u001b[39m\u001b[38;5;21;01msentence_transformers\u001b[39;00m\u001b[38;5;250m \u001b[39m\u001b[38;5;28;01mimport\u001b[39;00m SentenceTransformer\n\u001b[0;32m      4\u001b[0m \u001b[38;5;28;01mimport\u001b[39;00m\u001b[38;5;250m \u001b[39m\u001b[38;5;21;01mos\u001b[39;00m\n\u001b[0;32m      7\u001b[0m \u001b[38;5;28;01mclass\u001b[39;00m\u001b[38;5;250m \u001b[39m\u001b[38;5;21;01mQdrantDatabase\u001b[39;00m: \n",
      "\u001b[1;31mModuleNotFoundError\u001b[0m: No module named 'sentence_transformers'"
     ]
    }
   ],
   "source": [
    "from RAG.qdrant_database import QdrantDatabase"
   ]
  },
  {
   "cell_type": "code",
   "execution_count": 2,
   "metadata": {},
   "outputs": [],
   "source": [
    "import os\n",
    "api = os.environ.get('DB_API')"
   ]
  },
  {
   "cell_type": "markdown",
   "metadata": {},
   "source": [
    "**Client**"
   ]
  },
  {
   "cell_type": "code",
   "execution_count": 3,
   "metadata": {},
   "outputs": [
    {
     "name": "stderr",
     "output_type": "stream",
     "text": [
      "c:\\Users\\91790\\anaconda3\\Lib\\site-packages\\transformers\\tokenization_utils_base.py:1601: FutureWarning: `clean_up_tokenization_spaces` was not set. It will be set to `True` by default. This behavior will be depracted in transformers v4.45, and will be then set to `False` by default. For more details check this issue: https://github.com/huggingface/transformers/issues/31884\n",
      "  warnings.warn(\n"
     ]
    }
   ],
   "source": [
    "from qdrant_client import QdrantClient\n",
    "\n",
    "qd = QdrantDatabase(\n",
    "    cluster_uri=\"https://904197e5-0ed4-48c7-9642-0611912311c7.us-east4-0.gcp.cloud.qdrant.io:6333\",\n",
    "    api=api\n",
    ")"
   ]
  },
  {
   "cell_type": "code",
   "execution_count": 6,
   "metadata": {},
   "outputs": [
    {
     "data": {
      "text/plain": [
       "CollectionsResponse(collections=[CollectionDescription(name='furr_bot')])"
      ]
     },
     "execution_count": 6,
     "metadata": {},
     "output_type": "execute_result"
    }
   ],
   "source": [
    "qd.client.get_collections()"
   ]
  },
  {
   "cell_type": "markdown",
   "metadata": {},
   "source": [
    "**Create collection**"
   ]
  },
  {
   "cell_type": "code",
   "execution_count": 32,
   "metadata": {},
   "outputs": [],
   "source": [
    "client = qd.create_collection(\"furr_bot\")"
   ]
  },
  {
   "cell_type": "markdown",
   "metadata": {},
   "source": [
    "### **Upload Our Data to Qdrant**"
   ]
  },
  {
   "cell_type": "markdown",
   "metadata": {},
   "source": [
    "**Get lists of texts**"
   ]
  },
  {
   "cell_type": "code",
   "execution_count": 10,
   "metadata": {},
   "outputs": [],
   "source": [
    "import os \n",
    "\n",
    "# load all file names from a folder path \n",
    "\n",
    "file_paths = [f for f in os.listdir(\"vector_database/text_data\") if f.endswith('.json')]"
   ]
  },
  {
   "cell_type": "code",
   "execution_count": 11,
   "metadata": {},
   "outputs": [],
   "source": [
    "# add folder path to file_paths\n",
    "file_paths = [\"vector_database/text_data/\" + f for f in file_paths]"
   ]
  },
  {
   "cell_type": "code",
   "execution_count": 27,
   "metadata": {},
   "outputs": [
    {
     "name": "stdout",
     "output_type": "stream",
     "text": [
      "length of points in Bees is 8\n",
      "length of points in Birds is 884\n",
      "length of points in Cats is 966\n",
      "length of points in Chicken and Ducks is 107\n",
      "length of points in Chinchillas is 268\n",
      "length of points in Dogs is 4949\n",
      "length of points in Ferrets is 495\n",
      "length of points in Fish is 666\n",
      "length of points in Gerbils is 137\n",
      "length of points in Guinea Pigs is 353\n",
      "length of points in Hamsters is 339\n",
      "length of points in Horses is 714\n",
      "length of points in Pigs is 13\n",
      "length of points in Prairie Dogs is 79\n",
      "length of points in Rabbits is 842\n",
      "length of points in Rats is 256\n",
      "length of points in Reptiles is 119\n",
      "length of points in Sugar Gliders is 31\n"
     ]
    }
   ],
   "source": [
    "## get length of points \n",
    "import json\n",
    "\n",
    "# add all these lists to be a single list \n",
    "for item in file_paths:\n",
    "    with open(item) as f:\n",
    "        data = json.load(f)\n",
    "    print(f\"length of points in {data[0]['pet']} is {len(data)}\")"
   ]
  },
  {
   "cell_type": "code",
   "execution_count": 35,
   "metadata": {},
   "outputs": [],
   "source": [
    "text_list = []\n",
    "\n",
    "for item in file_paths:\n",
    "    with open(item) as f:\n",
    "        data = json.load(f) \n",
    "    text_list += data"
   ]
  },
  {
   "cell_type": "markdown",
   "metadata": {},
   "source": [
    "**Upsert the database**"
   ]
  },
  {
   "cell_type": "code",
   "execution_count": null,
   "metadata": {},
   "outputs": [],
   "source": []
  },
  {
   "cell_type": "code",
   "execution_count": 50,
   "metadata": {},
   "outputs": [],
   "source": [
    "def upsert(data):\n",
    "    qd.upsert_vectors( \n",
    "        collection_name=\"furr_bot\",\n",
    "        documents=data\n",
    "    )\n",
    "    print(f\"Up-serted {len(data)} items\")"
   ]
  },
  {
   "cell_type": "code",
   "execution_count": 46,
   "metadata": {},
   "outputs": [
    {
     "name": "stdout",
     "output_type": "stream",
     "text": [
      "Up-serted 11226 items\n"
     ]
    }
   ],
   "source": [
    "upsert(\n",
    "    text_list\n",
    ")"
   ]
  },
  {
   "cell_type": "markdown",
   "metadata": {},
   "source": [
    "**Query**"
   ]
  },
  {
   "cell_type": "code",
   "execution_count": 55,
   "metadata": {},
   "outputs": [
    {
     "data": {
      "text/plain": [
       "[{'text': 'heart disease heart disease is a common issue for many dog breeds, including labradoodles, and can be caused by underlying conditions such as heart valve degeneration, irregular heart rate and rhythm (arrhythmia), and dilated cardiomyopathy (dcm). the morris animal foundation, which funds canine heart disease studies, urges pet parents to look for signs, such as: persistent cough fainting or collapse difficulty breathing fatigue behavior changes (loss of appetite, reluctance to engage, etc.) if you notice any of these signs, make an appointment with your vet so they can perform screenings such as chest x-rays, blood tests, and an echocardiogram (an ultrasound of the heart and nearby blood vessels) to assess the issue. the condition can be serious if left untreated, but thankfully there are many treatment options available, such as diet therapy and medication.',\n",
       "  'topic': 'Heart Disease',\n",
       "  'blog_name': 'Dogs_Breeds_Labradoodle',\n",
       "  'pet': 'Dogs',\n",
       "  'word_count': 134,\n",
       "  'chunk_size': 158,\n",
       "  'score': 0.40807596},\n",
       " {'text': ' behavior the ’s herding history carries over to their behavior today. they are known to chase cars and neighborhood wildlife, so it’s important to supervise your dog and keep them within a fenced area or on a leash whenever they’re outside. icelandic sheepdogs can also bark a lot, as this was a form of communication when herding livestock. these dogs do best in a home with active and outdoorsy pet parents as icelandic sheepdogs love being outside, and need exercise and mental stimulation to be content. taking long walks and hiking are two of their favorite activities. , ',\n",
       "  'topic': 'Icelandic Sheepdog Behavior',\n",
       "  'blog_name': 'Dogs_Breeds_IcelandicSheepdog',\n",
       "  'pet': 'Dogs',\n",
       "  'word_count': 98,\n",
       "  'chunk_size': 108,\n",
       "  'score': 0.4006033},\n",
       " {'text': 'osteosarcoma osteosarcoma is an aggressive bone cancer that’s more common in large and giant breeds, including the pyrenean mastiff. one of the earliest signs of this disease is limping or lameness, so bring your dog to the veterinarian for evaluation if you notice a change in how they walk. while there is no cure for osteosarcoma, the disease is often treated through amputation, to offer dogs a better quality of life.',\n",
       "  'topic': 'Osteosarcoma',\n",
       "  'blog_name': 'Dogs_Breeds_PyreneanMastiff',\n",
       "  'pet': 'Dogs',\n",
       "  'word_count': 71,\n",
       "  'chunk_size': 79,\n",
       "  'score': 0.39697087},\n",
       " {'text': 'otterhound behavior otterhounds are very affectionate dogs. they love to be close to their family members and, according to the otterhound club of america (oca), may try to wiggle their way into your lap—despite their large size. when left alone for long periods, otterhounds can develop separation anxiety. the oca recommends that working pet parents have another dog at home to keep the social otterhound company when no one is around. otherwise, a bored and lonely otterhound may bark, or “bay”—loudly and often. as a scent hound, their powerful nose may lead them into trouble. to keep your dog safe, ensure they are kept inside a fenced area or on a leash when they are outside.',\n",
       "  'topic': 'Otterhound Behavior',\n",
       "  'blog_name': 'Dogs_Breeds_Otterhound',\n",
       "  'pet': 'Dogs',\n",
       "  'word_count': 116,\n",
       "  'chunk_size': 134,\n",
       "  'score': 0.39494392},\n",
       " {'text': 'bloodhound behavior the bloodhound dog’s howling, or “baying,” is a useful tool for communicating with their pack when they have been separated or are feeling lonely, but this behavior can be a nuisance in urban living, as they are known for being one of the most vocal breeds. this behavior runs deep in bloodhounds and typically can’t be trained out of them. they are also known to be escape artists, digging and jumping fences in pursuit of a scent. a sturdy, 6-foot fence is recommended, though some bloodhounds might always need to be supervised outside to prevent a houdini-like escape.',\n",
       "  'topic': 'Bloodhound Behavior',\n",
       "  'blog_name': 'Dogs_Breeds_Bloodhound',\n",
       "  'pet': 'Dogs',\n",
       "  'word_count': 100,\n",
       "  'chunk_size': 116,\n",
       "  'score': 0.39390883}]"
      ]
     },
     "execution_count": 55,
     "metadata": {},
     "output_type": "execute_result"
    }
   ],
   "source": [
    "qd.query_db(\n",
    "    collection_name=\"furr_bot\",\n",
    "    limits=5,\n",
    "    query=\"dog is running away\"\n",
    ")"
   ]
  },
  {
   "cell_type": "code",
   "execution_count": null,
   "metadata": {},
   "outputs": [],
   "source": []
  }
 ],
 "metadata": {
  "kernelspec": {
   "display_name": "agent",
   "language": "python",
   "name": "python3"
  },
  "language_info": {
   "codemirror_mode": {
    "name": "ipython",
    "version": 3
   },
   "file_extension": ".py",
   "mimetype": "text/x-python",
   "name": "python",
   "nbconvert_exporter": "python",
   "pygments_lexer": "ipython3",
   "version": "3.11.5"
  }
 },
 "nbformat": 4,
 "nbformat_minor": 2
}
