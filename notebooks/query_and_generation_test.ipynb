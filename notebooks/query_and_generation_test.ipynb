{
 "cells": [
  {
   "cell_type": "code",
   "execution_count": 1,
   "metadata": {},
   "outputs": [],
   "source": [
    "from RAG.qdrant_database import QdrantDatabase"
   ]
  },
  {
   "cell_type": "code",
   "execution_count": 2,
   "metadata": {},
   "outputs": [
    {
     "name": "stderr",
     "output_type": "stream",
     "text": [
      "c:\\Users\\91790\\anaconda3\\Lib\\site-packages\\transformers\\tokenization_utils_base.py:1601: FutureWarning: `clean_up_tokenization_spaces` was not set. It will be set to `True` by default. This behavior will be depracted in transformers v4.45, and will be then set to `False` by default. For more details check this issue: https://github.com/huggingface/transformers/issues/31884\n",
      "  warnings.warn(\n"
     ]
    }
   ],
   "source": [
    "import os\n",
    "qdrant = QdrantDatabase(\n",
    "        cluster_uri=\"https://904197e5-0ed4-48c7-9642-0611912311c7.us-east4-0.gcp.cloud.qdrant.io:6333\", \n",
    "        api=os.getenv(\"DB_API\")\n",
    "    )"
   ]
  },
  {
   "cell_type": "code",
   "execution_count": 3,
   "metadata": {},
   "outputs": [
    {
     "name": "stderr",
     "output_type": "stream",
     "text": [
      "c:\\Users\\91790\\anaconda3\\Lib\\site-packages\\transformers\\models\\bert\\modeling_bert.py:439: UserWarning: 1Torch was not compiled with flash attention. (Triggered internally at ..\\aten\\src\\ATen\\native\\transformers\\cuda\\sdp_utils.cpp:263.)\n",
      "  attn_output = torch.nn.functional.scaled_dot_product_attention(\n"
     ]
    }
   ],
   "source": [
    "prompt = \"How can i train my persian cat?\"\n",
    "matches = qdrant.query_db(collection_name='furr_bot', limits=2, query=prompt)\n",
    "context = \"\"\n",
    "for match in matches: \n",
    "    context += match.get('text')"
   ]
  },
  {
   "cell_type": "code",
   "execution_count": 4,
   "metadata": {},
   "outputs": [
    {
     "data": {
      "text/plain": [
       "\"persian training persian cats are intelligent and can be trained to respond to cues with the help of a clicker and positive reinforcement. like any cat, the success of training may depend on the individual cat—as well as patience and commitment from their pet parent.behavior and training tips for persian cats persian cat personality and temperament shuter and quandt describe persian cats as habitual creatures who prefer a calm and quiet lifestyle. “they’re especially susceptible to changes in the environment around them,” shuter explains. persians are better suited for households with older children than those with toddlers or babies. while persian cats can coexist peacefully with other cats and friendly dogs who don't chase or play rough, introductions to new pets should be done slowly and with care.\""
      ]
     },
     "execution_count": 4,
     "metadata": {},
     "output_type": "execute_result"
    }
   ],
   "source": [
    "context"
   ]
  },
  {
   "cell_type": "markdown",
   "metadata": {},
   "source": [
    "Generate Responses"
   ]
  },
  {
   "cell_type": "code",
   "execution_count": 5,
   "metadata": {},
   "outputs": [],
   "source": [
    "from streamlit_src.llm import gen, stream_gen"
   ]
  },
  {
   "cell_type": "code",
   "execution_count": 6,
   "metadata": {},
   "outputs": [
    {
     "name": "stdout",
     "output_type": "stream",
     "text": [
      "Persian cats are intelligent and can be trained with a clicker and positive reinforcement. It's important to be patient and committed during the training process. Introductions to new pets should be done slowly and with care.\n"
     ]
    }
   ],
   "source": [
    "print(\n",
    "    gen(\"gpt-3.5-turbo\", context, prompt)\n",
    ") "
   ]
  },
  {
   "cell_type": "code",
   "execution_count": 7,
   "metadata": {},
   "outputs": [
    {
     "name": "stdout",
     "output_type": "stream",
     "text": [
      "You can train your Persian cat using a clicker and positive reinforcement, being patient and committed. Persians prefer a calm environment and respond well to training with consistency. Introduce them slowly to new pets for peaceful coexistence.\n"
     ]
    }
   ],
   "source": [
    "print(\n",
    "    stream_gen(\"gpt-3.5-turbo\", context, prompt)\n",
    ")"
   ]
  },
  {
   "cell_type": "code",
   "execution_count": null,
   "metadata": {},
   "outputs": [],
   "source": []
  }
 ],
 "metadata": {
  "kernelspec": {
   "display_name": "base",
   "language": "python",
   "name": "python3"
  },
  "language_info": {
   "codemirror_mode": {
    "name": "ipython",
    "version": 3
   },
   "file_extension": ".py",
   "mimetype": "text/x-python",
   "name": "python",
   "nbconvert_exporter": "python",
   "pygments_lexer": "ipython3",
   "version": "3.11.5"
  }
 },
 "nbformat": 4,
 "nbformat_minor": 2
}
